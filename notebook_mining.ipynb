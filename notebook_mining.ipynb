{
 "cells": [
  {
   "cell_type": "markdown",
   "id": "9d47e607",
   "metadata": {},
   "source": [
    "# Open Pit Mining"
   ]
  },
  {
   "cell_type": "markdown",
   "id": "4bfeead1",
   "metadata": {},
   "source": [
    "### GENERAL"
   ]
  },
  {
   "cell_type": "code",
   "execution_count": 1,
   "id": "initial_id",
   "metadata": {
    "ExecuteTime": {
     "end_time": "2025-04-07T17:57:52.219987Z",
     "start_time": "2025-04-07T17:57:50.840989Z"
    },
    "collapsed": true
   },
   "outputs": [],
   "source": [
    "import ee\n",
    "import geemap\n",
    "import json\n",
    "import pandas as pd\n",
    "\n",
    "#ee.Authenticate()\n",
    "ee.Initialize(project=\"mining-457808\")"
   ]
  },
  {
   "cell_type": "code",
   "execution_count": 2,
   "id": "68bb9d6cb0f389db",
   "metadata": {
    "ExecuteTime": {
     "end_time": "2025-04-07T17:57:54.493129Z",
     "start_time": "2025-04-07T17:57:53.367341Z"
    }
   },
   "outputs": [
    {
     "data": {
      "text/html": [
       "\n",
       "            <style>\n",
       "                .geemap-dark {\n",
       "                    --jp-widgets-color: white;\n",
       "                    --jp-widgets-label-color: white;\n",
       "                    --jp-ui-font-color1: white;\n",
       "                    --jp-layout-color2: #454545;\n",
       "                    background-color: #383838;\n",
       "                }\n",
       "\n",
       "                .geemap-dark .jupyter-button {\n",
       "                    --jp-layout-color3: #383838;\n",
       "                }\n",
       "\n",
       "                .geemap-colab {\n",
       "                    background-color: var(--colab-primary-surface-color, white);\n",
       "                }\n",
       "\n",
       "                .geemap-colab .jupyter-button {\n",
       "                    --jp-layout-color3: var(--colab-primary-surface-color, white);\n",
       "                }\n",
       "            </style>\n",
       "            "
      ],
      "text/plain": [
       "<IPython.core.display.HTML object>"
      ]
     },
     "metadata": {},
     "output_type": "display_data"
    }
   ],
   "source": [
    "with open(\"C:\\\\space_technologies\\\\OpenPitMining\\\\niedzwiedzia_gora_polygon.geojson\") as f:\n",
    "    geojson_data = json.load(f)\n",
    "\n",
    "with open(\"C:\\\\space_technologies\\\\OpenPitMining\\\\niedzwiedzia_gora_buildings.geojson\") as f:\n",
    "    buildings_geojson = json.load(f)\n",
    "    \n",
    "polygon = geemap.geojson_to_ee(geojson_data)\n",
    "buildings = geemap.geojson_to_ee(buildings_geojson)"
   ]
  },
  {
   "cell_type": "code",
   "execution_count": null,
   "id": "885d6961",
   "metadata": {},
   "outputs": [
    {
     "data": {
      "text/html": [
       "\n",
       "            <style>\n",
       "                .geemap-dark {\n",
       "                    --jp-widgets-color: white;\n",
       "                    --jp-widgets-label-color: white;\n",
       "                    --jp-ui-font-color1: white;\n",
       "                    --jp-layout-color2: #454545;\n",
       "                    background-color: #383838;\n",
       "                }\n",
       "\n",
       "                .geemap-dark .jupyter-button {\n",
       "                    --jp-layout-color3: #383838;\n",
       "                }\n",
       "\n",
       "                .geemap-colab {\n",
       "                    background-color: var(--colab-primary-surface-color, white);\n",
       "                }\n",
       "\n",
       "                .geemap-colab .jupyter-button {\n",
       "                    --jp-layout-color3: var(--colab-primary-surface-color, white);\n",
       "                }\n",
       "            </style>\n",
       "            "
      ],
      "text/plain": [
       "<IPython.core.display.HTML object>"
      ]
     },
     "metadata": {},
     "output_type": "display_data"
    },
    {
     "name": "stdout",
     "output_type": "stream",
     "text": [
      "50.094972773723526, 19.625012901371132, 50.11341026110655, 19.649379925684382\n"
     ]
    }
   ],
   "source": [
    "#na zas\n",
    "\n",
    "# rectangle_case = polygon.geometry().buffer(500).bounds()\n",
    "# bounds = rectangle_case.bounds().getInfo()['coordinates'][0]\n",
    "\n",
    "# lats = [pt[1] for pt in bounds]\n",
    "# lons = [pt[0] for pt in bounds]\n",
    "\n",
    "# south = min(lats)\n",
    "# north = max(lats)\n",
    "# west = min(lons)\n",
    "# east = max(lons)\n",
    "\n",
    "# print(f\"{south}, {west}, {north}, {east}\")"
   ]
  },
  {
   "cell_type": "code",
   "execution_count": null,
   "id": "2a34047e",
   "metadata": {},
   "outputs": [
    {
     "data": {
      "text/html": [
       "\n",
       "            <style>\n",
       "                .geemap-dark {\n",
       "                    --jp-widgets-color: white;\n",
       "                    --jp-widgets-label-color: white;\n",
       "                    --jp-ui-font-color1: white;\n",
       "                    --jp-layout-color2: #454545;\n",
       "                    background-color: #383838;\n",
       "                }\n",
       "\n",
       "                .geemap-dark .jupyter-button {\n",
       "                    --jp-layout-color3: #383838;\n",
       "                }\n",
       "\n",
       "                .geemap-colab {\n",
       "                    background-color: var(--colab-primary-surface-color, white);\n",
       "                }\n",
       "\n",
       "                .geemap-colab .jupyter-button {\n",
       "                    --jp-layout-color3: var(--colab-primary-surface-color, white);\n",
       "                }\n",
       "            </style>\n",
       "            "
      ],
      "text/plain": [
       "<IPython.core.display.HTML object>"
      ]
     },
     "metadata": {},
     "output_type": "display_data"
    },
    {
     "name": "stderr",
     "output_type": "stream",
     "text": [
      "C:\\Users\\Hp\\AppData\\Local\\Temp\\ipykernel_13916\\3106269892.py:3: FutureWarning: 'M' is deprecated and will be removed in a future version, please use 'ME' instead.\n",
      "  date_list_end = pd.date_range(start='2016-01-31', end='2025-03-31', freq='M')\n"
     ]
    }
   ],
   "source": [
    "# TODO ogarnąć daty bez sniegu\n",
    "\n",
    "date_list_start = pd.date_range(start='2016-01-01', end='2025-03-01', freq='MS')\n",
    "date_list_start = [date.strftime('%Y-%m-%d') for date in date_list_start]\n",
    "date_list_end = pd.date_range(start='2016-01-31', end='2025-03-31', freq='M')\n",
    "date_list_end = [date.strftime('%Y-%m-%d') for date in date_list_end]"
   ]
  },
  {
   "cell_type": "markdown",
   "id": "3b73ed43",
   "metadata": {},
   "source": [
    "### ONE YEAR"
   ]
  },
  {
   "cell_type": "code",
   "execution_count": 4,
   "id": "5105fadd",
   "metadata": {},
   "outputs": [
    {
     "data": {
      "text/html": [
       "\n",
       "            <style>\n",
       "                .geemap-dark {\n",
       "                    --jp-widgets-color: white;\n",
       "                    --jp-widgets-label-color: white;\n",
       "                    --jp-ui-font-color1: white;\n",
       "                    --jp-layout-color2: #454545;\n",
       "                    background-color: #383838;\n",
       "                }\n",
       "\n",
       "                .geemap-dark .jupyter-button {\n",
       "                    --jp-layout-color3: #383838;\n",
       "                }\n",
       "\n",
       "                .geemap-colab {\n",
       "                    background-color: var(--colab-primary-surface-color, white);\n",
       "                }\n",
       "\n",
       "                .geemap-colab .jupyter-button {\n",
       "                    --jp-layout-color3: var(--colab-primary-surface-color, white);\n",
       "                }\n",
       "            </style>\n",
       "            "
      ],
      "text/plain": [
       "<IPython.core.display.HTML object>"
      ]
     },
     "metadata": {},
     "output_type": "display_data"
    }
   ],
   "source": [
    "image_case = (\n",
    "    ee.ImageCollection('COPERNICUS/S2_HARMONIZED')\n",
    "    .filterBounds(polygon.geometry())\n",
    "    .filterDate(f'2024-07-01', f'2024-07-31')\n",
    "    .sort('CLOUDY_PIXEL_PERCENTAGE')\n",
    "    .first()\n",
    ")"
   ]
  },
  {
   "cell_type": "code",
   "execution_count": null,
   "id": "21f84479",
   "metadata": {},
   "outputs": [
    {
     "data": {
      "text/html": [
       "\n",
       "            <style>\n",
       "                .geemap-dark {\n",
       "                    --jp-widgets-color: white;\n",
       "                    --jp-widgets-label-color: white;\n",
       "                    --jp-ui-font-color1: white;\n",
       "                    --jp-layout-color2: #454545;\n",
       "                    background-color: #383838;\n",
       "                }\n",
       "\n",
       "                .geemap-dark .jupyter-button {\n",
       "                    --jp-layout-color3: #383838;\n",
       "                }\n",
       "\n",
       "                .geemap-colab {\n",
       "                    background-color: var(--colab-primary-surface-color, white);\n",
       "                }\n",
       "\n",
       "                .geemap-colab .jupyter-button {\n",
       "                    --jp-layout-color3: var(--colab-primary-surface-color, white);\n",
       "                }\n",
       "            </style>\n",
       "            "
      ],
      "text/plain": [
       "<IPython.core.display.HTML object>"
      ]
     },
     "metadata": {},
     "output_type": "display_data"
    }
   ],
   "source": [
    "rectangle_case = polygon.geometry().buffer(500).bounds()\n",
    "image_case = image_case.clip(rectangle_case)\n",
    "\n",
    "rgb_case = image_case.select(['B4', 'B3', 'B2'])\n",
    "ndvi_case = image_case.normalizedDifference(['B8', 'B4'])\n",
    "bare_soil_case = ndvi_case.lt(0.18)\n",
    "\n",
    "ones_case = ee.Image.constant(1).clip(rectangle_case)\n",
    "polygon_mask_case = ee.Image.constant(1).clip(polygon)\n",
    "outside_mask_case = ones_case.where(polygon_mask_case.eq(1), 0)\n",
    "exceeded_case = bare_soil_case.updateMask(outside_mask_case)\n",
    "\n",
    "buildings_mask_case = ee.Image().byte().paint(featureCollection=buildings, color=1).clip(rectangle_case)\n",
    "buildings_mask_case = ones_case.where(buildings_mask_case.eq(1), 0)\n",
    "\n",
    "exceeded_case = exceeded_case.updateMask(buildings_mask_case)"
   ]
  },
  {
   "cell_type": "code",
   "execution_count": 6,
   "id": "5196a8c0",
   "metadata": {},
   "outputs": [
    {
     "data": {
      "text/html": [
       "\n",
       "            <style>\n",
       "                .geemap-dark {\n",
       "                    --jp-widgets-color: white;\n",
       "                    --jp-widgets-label-color: white;\n",
       "                    --jp-ui-font-color1: white;\n",
       "                    --jp-layout-color2: #454545;\n",
       "                    background-color: #383838;\n",
       "                }\n",
       "\n",
       "                .geemap-dark .jupyter-button {\n",
       "                    --jp-layout-color3: #383838;\n",
       "                }\n",
       "\n",
       "                .geemap-colab {\n",
       "                    background-color: var(--colab-primary-surface-color, white);\n",
       "                }\n",
       "\n",
       "                .geemap-colab .jupyter-button {\n",
       "                    --jp-layout-color3: var(--colab-primary-surface-color, white);\n",
       "                }\n",
       "            </style>\n",
       "            "
      ],
      "text/plain": [
       "<IPython.core.display.HTML object>"
      ]
     },
     "metadata": {},
     "output_type": "display_data"
    },
    {
     "data": {
      "application/vnd.jupyter.widget-view+json": {
       "model_id": "991f390a8460497c9c739cf28ef42eba",
       "version_major": 2,
       "version_minor": 0
      },
      "text/plain": [
       "Map(center=[50.10339412565508, 19.63649860680545], controls=(WidgetControl(options=['position', 'transparent_b…"
      ]
     },
     "execution_count": 6,
     "metadata": {},
     "output_type": "execute_result"
    }
   ],
   "source": [
    "polygon_style = {\"color\": \"red\", \"fillColor\": \"00000000\", \"width\": 1}\n",
    "buildings_style = {\"color\": \"green\", \"fillColor\": \"00000000\", \"width\": 1}\n",
    "ndvi_vis = {'min': -1, 'max': 1, 'palette': ['blue', 'white', 'green']}\n",
    "rgb_vis = {'min': 0, 'max': 3000}\n",
    "bare_soil_vis = {'min': 0, 'max': 1, 'palette': ['black', 'white']}\n",
    "exceeded_vis = {'min': 0, 'max': 1, 'palette': ['black', 'yellow']}\n",
    "\n",
    "map = geemap.Map()\n",
    "map.centerObject(polygon, zoom=15)\n",
    "map.add_layer(rgb_case, rgb_vis, \"orthophotomap\")\n",
    "map.add_layer(ndvi_case, ndvi_vis, \"NDVI\")\n",
    "map.add_layer(bare_soil_case, bare_soil_vis, \"bare soil mask\")\n",
    "map.add_layer(exceeded_case, exceeded_vis, \"exceeded\")\n",
    "map.add_layer(polygon.style(**polygon_style), {}, \"mining area\")\n",
    "map.add_layer(buildings.style(**buildings_style), {}, \"buildings\")\n",
    "map"
   ]
  },
  {
   "cell_type": "markdown",
   "id": "1dcaffb0",
   "metadata": {},
   "source": [
    "### TIME SERIES"
   ]
  },
  {
   "cell_type": "code",
   "execution_count": 7,
   "id": "aa1018a1",
   "metadata": {},
   "outputs": [
    {
     "data": {
      "text/html": [
       "\n",
       "            <style>\n",
       "                .geemap-dark {\n",
       "                    --jp-widgets-color: white;\n",
       "                    --jp-widgets-label-color: white;\n",
       "                    --jp-ui-font-color1: white;\n",
       "                    --jp-layout-color2: #454545;\n",
       "                    background-color: #383838;\n",
       "                }\n",
       "\n",
       "                .geemap-dark .jupyter-button {\n",
       "                    --jp-layout-color3: #383838;\n",
       "                }\n",
       "\n",
       "                .geemap-colab {\n",
       "                    background-color: var(--colab-primary-surface-color, white);\n",
       "                }\n",
       "\n",
       "                .geemap-colab .jupyter-button {\n",
       "                    --jp-layout-color3: var(--colab-primary-surface-color, white);\n",
       "                }\n",
       "            </style>\n",
       "            "
      ],
      "text/plain": [
       "<IPython.core.display.HTML object>"
      ]
     },
     "metadata": {},
     "output_type": "display_data"
    },
    {
     "data": {
      "text/plain": [
       "['2016-01-14',\n",
       " '2016-03-24',\n",
       " '2016-04-03',\n",
       " '2016-05-23',\n",
       " '2016-06-29',\n",
       " '2016-07-02',\n",
       " '2016-08-28',\n",
       " '2016-09-10',\n",
       " '2016-11-29',\n",
       " '2016-12-16',\n",
       " '2017-01-28',\n",
       " '2017-02-27',\n",
       " '2017-04-05',\n",
       " '2017-05-28',\n",
       " '2017-06-27',\n",
       " '2017-07-22',\n",
       " '2017-08-08',\n",
       " '2017-09-27',\n",
       " '2017-10-02',\n",
       " '2017-11-04',\n",
       " '2017-12-26',\n",
       " '2018-02-19',\n",
       " '2018-03-04',\n",
       " '2018-04-20',\n",
       " '2018-05-13',\n",
       " '2018-06-07',\n",
       " '2018-08-13',\n",
       " '2018-09-12',\n",
       " '2018-10-05',\n",
       " '2018-11-06',\n",
       " '2019-02-19',\n",
       " '2019-03-24',\n",
       " '2019-04-20',\n",
       " '2019-05-25',\n",
       " '2019-06-09',\n",
       " '2019-07-29',\n",
       " '2019-08-26',\n",
       " '2019-09-22',\n",
       " '2019-10-20',\n",
       " '2019-11-01',\n",
       " '2019-12-11',\n",
       " '2020-01-03',\n",
       " '2020-03-28',\n",
       " '2020-04-02',\n",
       " '2020-05-09',\n",
       " '2020-07-01',\n",
       " '2020-08-22',\n",
       " '2020-09-09',\n",
       " '2020-10-06',\n",
       " '2020-11-08',\n",
       " '2021-02-26',\n",
       " '2021-03-03',\n",
       " '2021-04-09',\n",
       " '2021-05-12',\n",
       " '2021-06-21',\n",
       " '2021-07-13',\n",
       " '2021-08-20',\n",
       " '2021-09-06',\n",
       " '2021-10-09',\n",
       " '2021-11-25',\n",
       " '2022-01-09',\n",
       " '2022-02-16',\n",
       " '2022-03-25',\n",
       " '2022-04-12',\n",
       " '2022-05-19',\n",
       " '2022-06-03',\n",
       " '2022-07-21',\n",
       " '2022-08-05',\n",
       " '2022-09-01',\n",
       " '2022-10-26',\n",
       " '2022-11-15',\n",
       " '2022-12-25',\n",
       " '2023-01-12',\n",
       " '2023-02-06',\n",
       " '2023-03-20',\n",
       " '2023-04-22',\n",
       " '2023-05-27',\n",
       " '2023-06-03',\n",
       " '2023-07-08',\n",
       " '2023-08-15',\n",
       " '2023-09-06',\n",
       " '2023-10-14',\n",
       " '2023-11-08',\n",
       " '2023-12-18',\n",
       " '2024-01-29',\n",
       " '2024-02-16',\n",
       " '2024-03-27',\n",
       " '2024-05-28',\n",
       " '2024-06-17',\n",
       " '2024-07-30',\n",
       " '2024-08-14',\n",
       " '2024-09-18',\n",
       " '2024-10-18',\n",
       " '2024-11-17',\n",
       " '2024-12-29',\n",
       " '2025-01-18',\n",
       " '2025-02-22',\n",
       " '2025-03-19']"
      ]
     },
     "execution_count": 7,
     "metadata": {},
     "output_type": "execute_result"
    }
   ],
   "source": [
    "actual_date_list = []\n",
    "image_list = []\n",
    "\n",
    "rectangle = polygon.geometry().buffer(500).bounds()\n",
    "\n",
    "for start_date, end_date in zip(date_list_start, date_list_end):\n",
    "    sentinel = (\n",
    "        ee.ImageCollection('COPERNICUS/S2_HARMONIZED')\n",
    "        .filterBounds(polygon.geometry())\n",
    "        .filterDate(start_date, end_date)\n",
    "        .sort('CLOUDY_PIXEL_PERCENTAGE')\n",
    "        .first()\n",
    "    )\n",
    "    \n",
    "    if sentinel is not None:\n",
    "        qa = sentinel.select('QA60').clip(rectangle)\n",
    "        cloud_mask = qa.bitwiseAnd(1 << 10).neq(0)\n",
    "        \n",
    "        cloud_mask = cloud_mask.reduceRegion(\n",
    "            reducer = ee.Reducer.mean(),\n",
    "            geometry = rectangle,\n",
    "            scale = 10,\n",
    "            maxPixels = 1e9\n",
    "        )\n",
    "\n",
    "        cloud_cover = cloud_mask.get('QA60')\n",
    "        \n",
    "        if cloud_cover.getInfo() * 100 <= 0:\n",
    "            date = ee.Date(sentinel.get('system:time_start')).format('YYYY-MM-dd').getInfo()\n",
    "            image_list.append(sentinel)\n",
    "            actual_date_list.append(date)\n",
    "        \n",
    "actual_date_list"
   ]
  },
  {
   "cell_type": "code",
   "execution_count": 8,
   "id": "a54281c5",
   "metadata": {},
   "outputs": [
    {
     "data": {
      "text/html": [
       "\n",
       "            <style>\n",
       "                .geemap-dark {\n",
       "                    --jp-widgets-color: white;\n",
       "                    --jp-widgets-label-color: white;\n",
       "                    --jp-ui-font-color1: white;\n",
       "                    --jp-layout-color2: #454545;\n",
       "                    background-color: #383838;\n",
       "                }\n",
       "\n",
       "                .geemap-dark .jupyter-button {\n",
       "                    --jp-layout-color3: #383838;\n",
       "                }\n",
       "\n",
       "                .geemap-colab {\n",
       "                    background-color: var(--colab-primary-surface-color, white);\n",
       "                }\n",
       "\n",
       "                .geemap-colab .jupyter-button {\n",
       "                    --jp-layout-color3: var(--colab-primary-surface-color, white);\n",
       "                }\n",
       "            </style>\n",
       "            "
      ],
      "text/plain": [
       "<IPython.core.display.HTML object>"
      ]
     },
     "metadata": {},
     "output_type": "display_data"
    }
   ],
   "source": [
    "bare_soil_list = []\n",
    "\n",
    "for image in image_list:\n",
    "    image = image.clip(rectangle)\n",
    "    rgb = image.select(['B4', 'B3', 'B2'])\n",
    "    ndvi = image.normalizedDifference(['B8', 'B4'])\n",
    "    \n",
    "    bare_soil = ndvi.lt(0.18)\n",
    "    bare_soil_list.append(bare_soil)\n",
    "    \n",
    "exceeded_list = []\n",
    "\n",
    "for bare_soil in bare_soil_list:\n",
    "    ones = ee.Image.constant(1).clip(rectangle)\n",
    "    polygon_mask = ee.Image.constant(1).clip(polygon)\n",
    "    outside_mask = ones.where(polygon_mask.eq(1), 0)\n",
    "\n",
    "    exceeded = bare_soil.updateMask(outside_mask)\n",
    "    \n",
    "    buildings_mask = ee.Image().byte().paint(featureCollection=buildings, color=1).clip(rectangle_case)\n",
    "    buildings_mask = ones.where(buildings_mask.eq(1), 0)\n",
    "    exceeded = exceeded.updateMask(buildings_mask)\n",
    "    \n",
    "    exceeded_list.append(exceeded)"
   ]
  },
  {
   "cell_type": "code",
   "execution_count": null,
   "id": "51d74ecf",
   "metadata": {},
   "outputs": [
    {
     "data": {
      "text/html": [
       "\n",
       "            <style>\n",
       "                .geemap-dark {\n",
       "                    --jp-widgets-color: white;\n",
       "                    --jp-widgets-label-color: white;\n",
       "                    --jp-ui-font-color1: white;\n",
       "                    --jp-layout-color2: #454545;\n",
       "                    background-color: #383838;\n",
       "                }\n",
       "\n",
       "                .geemap-dark .jupyter-button {\n",
       "                    --jp-layout-color3: #383838;\n",
       "                }\n",
       "\n",
       "                .geemap-colab {\n",
       "                    background-color: var(--colab-primary-surface-color, white);\n",
       "                }\n",
       "\n",
       "                .geemap-colab .jupyter-button {\n",
       "                    --jp-layout-color3: var(--colab-primary-surface-color, white);\n",
       "                }\n",
       "            </style>\n",
       "            "
      ],
      "text/plain": [
       "<IPython.core.display.HTML object>"
      ]
     },
     "metadata": {},
     "output_type": "display_data"
    },
    {
     "data": {
      "application/vnd.jupyter.widget-view+json": {
       "model_id": "e716c7e2064d4810b4cf07220510db31",
       "version_major": 2,
       "version_minor": 0
      },
      "text/plain": [
       "Map(center=[50.10339412565508, 19.63649860680545], controls=(WidgetControl(options=['position', 'transparent_b…"
      ]
     },
     "execution_count": 9,
     "metadata": {},
     "output_type": "execute_result"
    }
   ],
   "source": [
    "ndvi_vis = {'min': -1, 'max': 1, 'palette': ['blue', 'white', 'green']}\n",
    "rgb_vis = {'min': 0, 'max': 3000}\n",
    "polygon_style = {\"color\": \"red\", \"fillColor\": \"00000000\", \"width\": 1}\n",
    "bare_soil_vis = {'min': 0, 'max': 1, 'palette': ['black', 'white']}\n",
    "exceeded_vis = {'min': 0, 'max': 1, 'palette': ['black', 'yellow']}\n",
    "color_palette = ['red', 'blue', 'green', 'yellow', 'purple']\n",
    "\n",
    "map = geemap.Map()\n",
    "map.centerObject(polygon, zoom=15)\n",
    "map.add_layer(rgb, rgb_vis, \"orthophotomap\")\n",
    "map.add_layer(ndvi, ndvi_vis, \"NDVI\")\n",
    "\n",
    "# przykładowy rok\n",
    "map.add_layer(exceeded_list[13], exceeded_vis, f\"exceeded {actual_date_list[13]}\")\n",
    "map.add_layer(polygon.style(**polygon_style), {}, \"mining area\")\n",
    "map\n"
   ]
  }
 ],
 "metadata": {
  "kernelspec": {
   "display_name": "venvMining",
   "language": "python",
   "name": "python3"
  },
  "language_info": {
   "codemirror_mode": {
    "name": "ipython",
    "version": 3
   },
   "file_extension": ".py",
   "mimetype": "text/x-python",
   "name": "python",
   "nbconvert_exporter": "python",
   "pygments_lexer": "ipython3",
   "version": "3.11.11"
  }
 },
 "nbformat": 4,
 "nbformat_minor": 5
}
