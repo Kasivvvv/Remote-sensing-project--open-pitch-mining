{
 "cells": [
  {
   "cell_type": "markdown",
   "id": "9d47e607",
   "metadata": {},
   "source": [
    "# Open Pit Mining"
   ]
  },
  {
   "cell_type": "code",
   "execution_count": 1,
   "id": "initial_id",
   "metadata": {
    "ExecuteTime": {
     "end_time": "2025-04-07T17:57:52.219987Z",
     "start_time": "2025-04-07T17:57:50.840989Z"
    },
    "collapsed": true
   },
   "outputs": [],
   "source": [
    "import ee\n",
    "import geemap\n",
    "import json\n",
    "import pandas as pd\n",
    "\n",
    "#ee.Authenticate()\n",
    "ee.Initialize(project=\"mining-457808\")"
   ]
  },
  {
   "cell_type": "code",
   "execution_count": 2,
   "id": "68bb9d6cb0f389db",
   "metadata": {
    "ExecuteTime": {
     "end_time": "2025-04-07T17:57:54.493129Z",
     "start_time": "2025-04-07T17:57:53.367341Z"
    }
   },
   "outputs": [
    {
     "data": {
      "text/html": [
       "\n",
       "            <style>\n",
       "                .geemap-dark {\n",
       "                    --jp-widgets-color: white;\n",
       "                    --jp-widgets-label-color: white;\n",
       "                    --jp-ui-font-color1: white;\n",
       "                    --jp-layout-color2: #454545;\n",
       "                    background-color: #383838;\n",
       "                }\n",
       "\n",
       "                .geemap-dark .jupyter-button {\n",
       "                    --jp-layout-color3: #383838;\n",
       "                }\n",
       "\n",
       "                .geemap-colab {\n",
       "                    background-color: var(--colab-primary-surface-color, white);\n",
       "                }\n",
       "\n",
       "                .geemap-colab .jupyter-button {\n",
       "                    --jp-layout-color3: var(--colab-primary-surface-color, white);\n",
       "                }\n",
       "            </style>\n",
       "            "
      ],
      "text/plain": [
       "<IPython.core.display.HTML object>"
      ]
     },
     "metadata": {},
     "output_type": "display_data"
    }
   ],
   "source": [
    "with open(\"C:\\\\space_technologies\\\\OpenPitMining\\\\niedzwiedzia_gora_polygon.geojson\") as f:\n",
    "    geojson_data = json.load(f)\n",
    "\n",
    "polygon = geemap.geojson_to_ee(geojson_data)"
   ]
  },
  {
   "cell_type": "code",
   "execution_count": 24,
   "id": "5fee21be",
   "metadata": {},
   "outputs": [
    {
     "data": {
      "text/html": [
       "\n",
       "            <style>\n",
       "                .geemap-dark {\n",
       "                    --jp-widgets-color: white;\n",
       "                    --jp-widgets-label-color: white;\n",
       "                    --jp-ui-font-color1: white;\n",
       "                    --jp-layout-color2: #454545;\n",
       "                    background-color: #383838;\n",
       "                }\n",
       "\n",
       "                .geemap-dark .jupyter-button {\n",
       "                    --jp-layout-color3: #383838;\n",
       "                }\n",
       "\n",
       "                .geemap-colab {\n",
       "                    background-color: var(--colab-primary-surface-color, white);\n",
       "                }\n",
       "\n",
       "                .geemap-colab .jupyter-button {\n",
       "                    --jp-layout-color3: var(--colab-primary-surface-color, white);\n",
       "                }\n",
       "            </style>\n",
       "            "
      ],
      "text/plain": [
       "<IPython.core.display.HTML object>"
      ]
     },
     "metadata": {},
     "output_type": "display_data"
    }
   ],
   "source": [
    "with open(\"C:\\\\space_technologies\\\\OpenPitMining\\\\niedzwiedzia_gora_buildings.geojson\") as f:\n",
    "    buildings_geojson = json.load(f)\n",
    "\n",
    "buildings = geemap.geojson_to_ee(buildings_geojson)"
   ]
  },
  {
   "cell_type": "code",
   "execution_count": 3,
   "id": "2a34047e",
   "metadata": {},
   "outputs": [
    {
     "data": {
      "text/html": [
       "\n",
       "            <style>\n",
       "                .geemap-dark {\n",
       "                    --jp-widgets-color: white;\n",
       "                    --jp-widgets-label-color: white;\n",
       "                    --jp-ui-font-color1: white;\n",
       "                    --jp-layout-color2: #454545;\n",
       "                    background-color: #383838;\n",
       "                }\n",
       "\n",
       "                .geemap-dark .jupyter-button {\n",
       "                    --jp-layout-color3: #383838;\n",
       "                }\n",
       "\n",
       "                .geemap-colab {\n",
       "                    background-color: var(--colab-primary-surface-color, white);\n",
       "                }\n",
       "\n",
       "                .geemap-colab .jupyter-button {\n",
       "                    --jp-layout-color3: var(--colab-primary-surface-color, white);\n",
       "                }\n",
       "            </style>\n",
       "            "
      ],
      "text/plain": [
       "<IPython.core.display.HTML object>"
      ]
     },
     "metadata": {},
     "output_type": "display_data"
    },
    {
     "name": "stderr",
     "output_type": "stream",
     "text": [
      "C:\\Users\\Hp\\AppData\\Local\\Temp\\ipykernel_11564\\3106269892.py:3: FutureWarning: 'M' is deprecated and will be removed in a future version, please use 'ME' instead.\n",
      "  date_list_end = pd.date_range(start='2016-01-31', end='2025-03-31', freq='M')\n"
     ]
    }
   ],
   "source": [
    "date_list_start = pd.date_range(start='2016-01-01', end='2025-03-01', freq='MS')\n",
    "date_list_start = [date.strftime('%Y-%m-%d') for date in date_list_start]\n",
    "date_list_end = pd.date_range(start='2016-01-31', end='2025-03-31', freq='M')\n",
    "date_list_end = [date.strftime('%Y-%m-%d') for date in date_list_end]"
   ]
  },
  {
   "cell_type": "markdown",
   "id": "3b73ed43",
   "metadata": {},
   "source": [
    "### ONE YEAR"
   ]
  },
  {
   "cell_type": "code",
   "execution_count": 37,
   "id": "5105fadd",
   "metadata": {},
   "outputs": [
    {
     "data": {
      "text/html": [
       "\n",
       "            <style>\n",
       "                .geemap-dark {\n",
       "                    --jp-widgets-color: white;\n",
       "                    --jp-widgets-label-color: white;\n",
       "                    --jp-ui-font-color1: white;\n",
       "                    --jp-layout-color2: #454545;\n",
       "                    background-color: #383838;\n",
       "                }\n",
       "\n",
       "                .geemap-dark .jupyter-button {\n",
       "                    --jp-layout-color3: #383838;\n",
       "                }\n",
       "\n",
       "                .geemap-colab {\n",
       "                    background-color: var(--colab-primary-surface-color, white);\n",
       "                }\n",
       "\n",
       "                .geemap-colab .jupyter-button {\n",
       "                    --jp-layout-color3: var(--colab-primary-surface-color, white);\n",
       "                }\n",
       "            </style>\n",
       "            "
      ],
      "text/plain": [
       "<IPython.core.display.HTML object>"
      ]
     },
     "metadata": {},
     "output_type": "display_data"
    },
    {
     "data": {
      "text/html": [
       "<div><style>:root {\n",
       "  --font-color-primary: var(--jp-content-font-color0, rgba(0, 0, 0, 1));\n",
       "  --font-color-secondary: var(--jp-content-font-color2, rgba(0, 0, 0, 0.7));\n",
       "  --font-color-accent: rgba(123, 31, 162, 1);\n",
       "  --border-color: var(--jp-border-color2, #e0e0e0);\n",
       "  --background-color: var(--jp-layout-color0, white);\n",
       "  --background-color-row-even: var(--jp-layout-color1, white);\n",
       "  --background-color-row-odd: var(--jp-layout-color2, #eeeeee);\n",
       "}\n",
       "\n",
       "html[theme=\"dark\"],\n",
       "body[data-theme=\"dark\"],\n",
       "body.vscode-dark {\n",
       "  --font-color-primary: rgba(255, 255, 255, 1);\n",
       "  --font-color-secondary: rgba(255, 255, 255, 0.7);\n",
       "  --font-color-accent: rgb(173, 132, 190);\n",
       "  --border-color: #2e2e2e;\n",
       "  --background-color: #111111;\n",
       "  --background-color-row-even: #111111;\n",
       "  --background-color-row-odd: #313131;\n",
       "}\n",
       "\n",
       ".eerepr {\n",
       "  padding: 1em;\n",
       "  line-height: 1.5em;\n",
       "  min-width: 300px;\n",
       "  max-width: 1200px;\n",
       "  overflow-y: scroll;\n",
       "  max-height: 600px;\n",
       "  border: 1px solid var(--border-color);\n",
       "  font-family: monospace;\n",
       "  font-size: 14px;\n",
       "}\n",
       "\n",
       ".eerepr li {\n",
       "  list-style-type: none;\n",
       "  margin: 0;\n",
       "}\n",
       "\n",
       ".eerepr ul {\n",
       "  padding-left: 1.5em !important;\n",
       "  margin: 0;\n",
       "}\n",
       "\n",
       ".eerepr > ul {\n",
       "  padding-left: 0 !important;\n",
       "}\n",
       "\n",
       ".eerepr summary {\n",
       "  color: var(--font-color-secondary);\n",
       "  cursor: pointer;\n",
       "  margin: 0;\n",
       "}\n",
       "\n",
       ".eerepr summary:hover {\n",
       "  color: var(--font-color-primary);\n",
       "  background-color: var(--background-color-row-odd)\n",
       "}\n",
       "\n",
       ".ee-k {\n",
       "  color: var(--font-color-accent);\n",
       "  margin-right: 6px;\n",
       "}\n",
       "\n",
       ".ee-v {\n",
       "  color: var(--font-color-primary);\n",
       "}\n",
       "\n",
       ".eerepr details > summary::before {\n",
       "  content: '▼';\n",
       "  display: inline-block;\n",
       "  margin-right: 6px;\n",
       "  transition: transform 0.2s;\n",
       "  transform: rotate(-90deg);\n",
       "}\n",
       "\n",
       ".eerepr details[open] > summary::before {\n",
       "  transform: rotate(0deg);\n",
       "}\n",
       "\n",
       ".eerepr details summary::-webkit-details-marker {\n",
       "  display:none;\n",
       "}\n",
       "\n",
       ".eerepr details summary {\n",
       "  list-style-type: none;\n",
       "}\n",
       "</style><div class='eerepr'><ul><li><details><summary>Image COPERNICUS/S2_HARMONIZED/20240730T095031_20240730T095149_T34UDA (19 bands)</summary><ul><li><span class='ee-k'>type:</span><span class='ee-v'>Image</span></li><li><span class='ee-k'>id:</span><span class='ee-v'>COPERNICUS/S2_HARMONIZED/20240730T095031_20240730T095149_T34UDA</span></li><li><span class='ee-k'>version:</span><span class='ee-v'>1747480575778517</span></li><li><details><summary>bands: List (19 elements)</summary><ul><li><details><summary>0: \"B1\", unsigned int16, EPSG:32634, 1830x1830 px</summary><ul><li><span class='ee-k'>id:</span><span class='ee-v'>B1</span></li><li><span class='ee-k'>crs:</span><span class='ee-v'>EPSG:32634</span></li><li><details><summary>crs_transform: [60, 0, 399960, 0, -60, 5600040]</summary><ul><li><span class='ee-k'>0:</span><span class='ee-v'>60</span></li><li><span class='ee-k'>1:</span><span class='ee-v'>0</span></li><li><span class='ee-k'>2:</span><span class='ee-v'>399960</span></li><li><span class='ee-k'>3:</span><span class='ee-v'>0</span></li><li><span class='ee-k'>4:</span><span class='ee-v'>-60</span></li><li><span class='ee-k'>5:</span><span class='ee-v'>5600040</span></li></ul></details></li><li><details><summary>data_type: unsigned int16</summary><ul><li><span class='ee-k'>type:</span><span class='ee-v'>PixelType</span></li><li><span class='ee-k'>max:</span><span class='ee-v'>65535</span></li><li><span class='ee-k'>min:</span><span class='ee-v'>0</span></li><li><span class='ee-k'>precision:</span><span class='ee-v'>int</span></li></ul></details></li><li><details><summary>dimensions: [1830, 1830]</summary><ul><li><span class='ee-k'>0:</span><span class='ee-v'>1830</span></li><li><span class='ee-k'>1:</span><span class='ee-v'>1830</span></li></ul></details></li></ul></details></li><li><details><summary>1: \"B2\", unsigned int16, EPSG:32634, 10980x10980 px</summary><ul><li><span class='ee-k'>id:</span><span class='ee-v'>B2</span></li><li><span class='ee-k'>crs:</span><span class='ee-v'>EPSG:32634</span></li><li><details><summary>crs_transform: [10, 0, 399960, 0, -10, 5600040]</summary><ul><li><span class='ee-k'>0:</span><span class='ee-v'>10</span></li><li><span class='ee-k'>1:</span><span class='ee-v'>0</span></li><li><span class='ee-k'>2:</span><span class='ee-v'>399960</span></li><li><span class='ee-k'>3:</span><span class='ee-v'>0</span></li><li><span class='ee-k'>4:</span><span class='ee-v'>-10</span></li><li><span class='ee-k'>5:</span><span class='ee-v'>5600040</span></li></ul></details></li><li><details><summary>data_type: unsigned int16</summary><ul><li><span class='ee-k'>type:</span><span class='ee-v'>PixelType</span></li><li><span class='ee-k'>max:</span><span class='ee-v'>65535</span></li><li><span class='ee-k'>min:</span><span class='ee-v'>0</span></li><li><span class='ee-k'>precision:</span><span class='ee-v'>int</span></li></ul></details></li><li><details><summary>dimensions: [10980, 10980]</summary><ul><li><span class='ee-k'>0:</span><span class='ee-v'>10980</span></li><li><span class='ee-k'>1:</span><span class='ee-v'>10980</span></li></ul></details></li></ul></details></li><li><details><summary>2: \"B3\", unsigned int16, EPSG:32634, 10980x10980 px</summary><ul><li><span class='ee-k'>id:</span><span class='ee-v'>B3</span></li><li><span class='ee-k'>crs:</span><span class='ee-v'>EPSG:32634</span></li><li><details><summary>crs_transform: [10, 0, 399960, 0, -10, 5600040]</summary><ul><li><span class='ee-k'>0:</span><span class='ee-v'>10</span></li><li><span class='ee-k'>1:</span><span class='ee-v'>0</span></li><li><span class='ee-k'>2:</span><span class='ee-v'>399960</span></li><li><span class='ee-k'>3:</span><span class='ee-v'>0</span></li><li><span class='ee-k'>4:</span><span class='ee-v'>-10</span></li><li><span class='ee-k'>5:</span><span class='ee-v'>5600040</span></li></ul></details></li><li><details><summary>data_type: unsigned int16</summary><ul><li><span class='ee-k'>type:</span><span class='ee-v'>PixelType</span></li><li><span class='ee-k'>max:</span><span class='ee-v'>65535</span></li><li><span class='ee-k'>min:</span><span class='ee-v'>0</span></li><li><span class='ee-k'>precision:</span><span class='ee-v'>int</span></li></ul></details></li><li><details><summary>dimensions: [10980, 10980]</summary><ul><li><span class='ee-k'>0:</span><span class='ee-v'>10980</span></li><li><span class='ee-k'>1:</span><span class='ee-v'>10980</span></li></ul></details></li></ul></details></li><li><details><summary>3: \"B4\", unsigned int16, EPSG:32634, 10980x10980 px</summary><ul><li><span class='ee-k'>id:</span><span class='ee-v'>B4</span></li><li><span class='ee-k'>crs:</span><span class='ee-v'>EPSG:32634</span></li><li><details><summary>crs_transform: [10, 0, 399960, 0, -10, 5600040]</summary><ul><li><span class='ee-k'>0:</span><span class='ee-v'>10</span></li><li><span class='ee-k'>1:</span><span class='ee-v'>0</span></li><li><span class='ee-k'>2:</span><span class='ee-v'>399960</span></li><li><span class='ee-k'>3:</span><span class='ee-v'>0</span></li><li><span class='ee-k'>4:</span><span class='ee-v'>-10</span></li><li><span class='ee-k'>5:</span><span class='ee-v'>5600040</span></li></ul></details></li><li><details><summary>data_type: unsigned int16</summary><ul><li><span class='ee-k'>type:</span><span class='ee-v'>PixelType</span></li><li><span class='ee-k'>max:</span><span class='ee-v'>65535</span></li><li><span class='ee-k'>min:</span><span class='ee-v'>0</span></li><li><span class='ee-k'>precision:</span><span class='ee-v'>int</span></li></ul></details></li><li><details><summary>dimensions: [10980, 10980]</summary><ul><li><span class='ee-k'>0:</span><span class='ee-v'>10980</span></li><li><span class='ee-k'>1:</span><span class='ee-v'>10980</span></li></ul></details></li></ul></details></li><li><details><summary>4: \"B5\", unsigned int16, EPSG:32634, 5490x5490 px</summary><ul><li><span class='ee-k'>id:</span><span class='ee-v'>B5</span></li><li><span class='ee-k'>crs:</span><span class='ee-v'>EPSG:32634</span></li><li><details><summary>crs_transform: [20, 0, 399960, 0, -20, 5600040]</summary><ul><li><span class='ee-k'>0:</span><span class='ee-v'>20</span></li><li><span class='ee-k'>1:</span><span class='ee-v'>0</span></li><li><span class='ee-k'>2:</span><span class='ee-v'>399960</span></li><li><span class='ee-k'>3:</span><span class='ee-v'>0</span></li><li><span class='ee-k'>4:</span><span class='ee-v'>-20</span></li><li><span class='ee-k'>5:</span><span class='ee-v'>5600040</span></li></ul></details></li><li><details><summary>data_type: unsigned int16</summary><ul><li><span class='ee-k'>type:</span><span class='ee-v'>PixelType</span></li><li><span class='ee-k'>max:</span><span class='ee-v'>65535</span></li><li><span class='ee-k'>min:</span><span class='ee-v'>0</span></li><li><span class='ee-k'>precision:</span><span class='ee-v'>int</span></li></ul></details></li><li><details><summary>dimensions: [5490, 5490]</summary><ul><li><span class='ee-k'>0:</span><span class='ee-v'>5490</span></li><li><span class='ee-k'>1:</span><span class='ee-v'>5490</span></li></ul></details></li></ul></details></li><li><details><summary>5: \"B6\", unsigned int16, EPSG:32634, 5490x5490 px</summary><ul><li><span class='ee-k'>id:</span><span class='ee-v'>B6</span></li><li><span class='ee-k'>crs:</span><span class='ee-v'>EPSG:32634</span></li><li><details><summary>crs_transform: [20, 0, 399960, 0, -20, 5600040]</summary><ul><li><span class='ee-k'>0:</span><span class='ee-v'>20</span></li><li><span class='ee-k'>1:</span><span class='ee-v'>0</span></li><li><span class='ee-k'>2:</span><span class='ee-v'>399960</span></li><li><span class='ee-k'>3:</span><span class='ee-v'>0</span></li><li><span class='ee-k'>4:</span><span class='ee-v'>-20</span></li><li><span class='ee-k'>5:</span><span class='ee-v'>5600040</span></li></ul></details></li><li><details><summary>data_type: unsigned int16</summary><ul><li><span class='ee-k'>type:</span><span class='ee-v'>PixelType</span></li><li><span class='ee-k'>max:</span><span class='ee-v'>65535</span></li><li><span class='ee-k'>min:</span><span class='ee-v'>0</span></li><li><span class='ee-k'>precision:</span><span class='ee-v'>int</span></li></ul></details></li><li><details><summary>dimensions: [5490, 5490]</summary><ul><li><span class='ee-k'>0:</span><span class='ee-v'>5490</span></li><li><span class='ee-k'>1:</span><span class='ee-v'>5490</span></li></ul></details></li></ul></details></li><li><details><summary>6: \"B7\", unsigned int16, EPSG:32634, 5490x5490 px</summary><ul><li><span class='ee-k'>id:</span><span class='ee-v'>B7</span></li><li><span class='ee-k'>crs:</span><span class='ee-v'>EPSG:32634</span></li><li><details><summary>crs_transform: [20, 0, 399960, 0, -20, 5600040]</summary><ul><li><span class='ee-k'>0:</span><span class='ee-v'>20</span></li><li><span class='ee-k'>1:</span><span class='ee-v'>0</span></li><li><span class='ee-k'>2:</span><span class='ee-v'>399960</span></li><li><span class='ee-k'>3:</span><span class='ee-v'>0</span></li><li><span class='ee-k'>4:</span><span class='ee-v'>-20</span></li><li><span class='ee-k'>5:</span><span class='ee-v'>5600040</span></li></ul></details></li><li><details><summary>data_type: unsigned int16</summary><ul><li><span class='ee-k'>type:</span><span class='ee-v'>PixelType</span></li><li><span class='ee-k'>max:</span><span class='ee-v'>65535</span></li><li><span class='ee-k'>min:</span><span class='ee-v'>0</span></li><li><span class='ee-k'>precision:</span><span class='ee-v'>int</span></li></ul></details></li><li><details><summary>dimensions: [5490, 5490]</summary><ul><li><span class='ee-k'>0:</span><span class='ee-v'>5490</span></li><li><span class='ee-k'>1:</span><span class='ee-v'>5490</span></li></ul></details></li></ul></details></li><li><details><summary>7: \"B8\", unsigned int16, EPSG:32634, 10980x10980 px</summary><ul><li><span class='ee-k'>id:</span><span class='ee-v'>B8</span></li><li><span class='ee-k'>crs:</span><span class='ee-v'>EPSG:32634</span></li><li><details><summary>crs_transform: [10, 0, 399960, 0, -10, 5600040]</summary><ul><li><span class='ee-k'>0:</span><span class='ee-v'>10</span></li><li><span class='ee-k'>1:</span><span class='ee-v'>0</span></li><li><span class='ee-k'>2:</span><span class='ee-v'>399960</span></li><li><span class='ee-k'>3:</span><span class='ee-v'>0</span></li><li><span class='ee-k'>4:</span><span class='ee-v'>-10</span></li><li><span class='ee-k'>5:</span><span class='ee-v'>5600040</span></li></ul></details></li><li><details><summary>data_type: unsigned int16</summary><ul><li><span class='ee-k'>type:</span><span class='ee-v'>PixelType</span></li><li><span class='ee-k'>max:</span><span class='ee-v'>65535</span></li><li><span class='ee-k'>min:</span><span class='ee-v'>0</span></li><li><span class='ee-k'>precision:</span><span class='ee-v'>int</span></li></ul></details></li><li><details><summary>dimensions: [10980, 10980]</summary><ul><li><span class='ee-k'>0:</span><span class='ee-v'>10980</span></li><li><span class='ee-k'>1:</span><span class='ee-v'>10980</span></li></ul></details></li></ul></details></li><li><details><summary>8: \"B8A\", unsigned int16, EPSG:32634, 5490x5490 px</summary><ul><li><span class='ee-k'>id:</span><span class='ee-v'>B8A</span></li><li><span class='ee-k'>crs:</span><span class='ee-v'>EPSG:32634</span></li><li><details><summary>crs_transform: [20, 0, 399960, 0, -20, 5600040]</summary><ul><li><span class='ee-k'>0:</span><span class='ee-v'>20</span></li><li><span class='ee-k'>1:</span><span class='ee-v'>0</span></li><li><span class='ee-k'>2:</span><span class='ee-v'>399960</span></li><li><span class='ee-k'>3:</span><span class='ee-v'>0</span></li><li><span class='ee-k'>4:</span><span class='ee-v'>-20</span></li><li><span class='ee-k'>5:</span><span class='ee-v'>5600040</span></li></ul></details></li><li><details><summary>data_type: unsigned int16</summary><ul><li><span class='ee-k'>type:</span><span class='ee-v'>PixelType</span></li><li><span class='ee-k'>max:</span><span class='ee-v'>65535</span></li><li><span class='ee-k'>min:</span><span class='ee-v'>0</span></li><li><span class='ee-k'>precision:</span><span class='ee-v'>int</span></li></ul></details></li><li><details><summary>dimensions: [5490, 5490]</summary><ul><li><span class='ee-k'>0:</span><span class='ee-v'>5490</span></li><li><span class='ee-k'>1:</span><span class='ee-v'>5490</span></li></ul></details></li></ul></details></li><li><details><summary>9: \"B9\", unsigned int16, EPSG:32634, 1830x1830 px</summary><ul><li><span class='ee-k'>id:</span><span class='ee-v'>B9</span></li><li><span class='ee-k'>crs:</span><span class='ee-v'>EPSG:32634</span></li><li><details><summary>crs_transform: [60, 0, 399960, 0, -60, 5600040]</summary><ul><li><span class='ee-k'>0:</span><span class='ee-v'>60</span></li><li><span class='ee-k'>1:</span><span class='ee-v'>0</span></li><li><span class='ee-k'>2:</span><span class='ee-v'>399960</span></li><li><span class='ee-k'>3:</span><span class='ee-v'>0</span></li><li><span class='ee-k'>4:</span><span class='ee-v'>-60</span></li><li><span class='ee-k'>5:</span><span class='ee-v'>5600040</span></li></ul></details></li><li><details><summary>data_type: unsigned int16</summary><ul><li><span class='ee-k'>type:</span><span class='ee-v'>PixelType</span></li><li><span class='ee-k'>max:</span><span class='ee-v'>65535</span></li><li><span class='ee-k'>min:</span><span class='ee-v'>0</span></li><li><span class='ee-k'>precision:</span><span class='ee-v'>int</span></li></ul></details></li><li><details><summary>dimensions: [1830, 1830]</summary><ul><li><span class='ee-k'>0:</span><span class='ee-v'>1830</span></li><li><span class='ee-k'>1:</span><span class='ee-v'>1830</span></li></ul></details></li></ul></details></li><li><details><summary>10: \"B10\", unsigned int16, EPSG:32634, 1830x1830 px</summary><ul><li><span class='ee-k'>id:</span><span class='ee-v'>B10</span></li><li><span class='ee-k'>crs:</span><span class='ee-v'>EPSG:32634</span></li><li><details><summary>crs_transform: [60, 0, 399960, 0, -60, 5600040]</summary><ul><li><span class='ee-k'>0:</span><span class='ee-v'>60</span></li><li><span class='ee-k'>1:</span><span class='ee-v'>0</span></li><li><span class='ee-k'>2:</span><span class='ee-v'>399960</span></li><li><span class='ee-k'>3:</span><span class='ee-v'>0</span></li><li><span class='ee-k'>4:</span><span class='ee-v'>-60</span></li><li><span class='ee-k'>5:</span><span class='ee-v'>5600040</span></li></ul></details></li><li><details><summary>data_type: unsigned int16</summary><ul><li><span class='ee-k'>type:</span><span class='ee-v'>PixelType</span></li><li><span class='ee-k'>max:</span><span class='ee-v'>65535</span></li><li><span class='ee-k'>min:</span><span class='ee-v'>0</span></li><li><span class='ee-k'>precision:</span><span class='ee-v'>int</span></li></ul></details></li><li><details><summary>dimensions: [1830, 1830]</summary><ul><li><span class='ee-k'>0:</span><span class='ee-v'>1830</span></li><li><span class='ee-k'>1:</span><span class='ee-v'>1830</span></li></ul></details></li></ul></details></li><li><details><summary>11: \"B11\", unsigned int16, EPSG:32634, 5490x5490 px</summary><ul><li><span class='ee-k'>id:</span><span class='ee-v'>B11</span></li><li><span class='ee-k'>crs:</span><span class='ee-v'>EPSG:32634</span></li><li><details><summary>crs_transform: [20, 0, 399960, 0, -20, 5600040]</summary><ul><li><span class='ee-k'>0:</span><span class='ee-v'>20</span></li><li><span class='ee-k'>1:</span><span class='ee-v'>0</span></li><li><span class='ee-k'>2:</span><span class='ee-v'>399960</span></li><li><span class='ee-k'>3:</span><span class='ee-v'>0</span></li><li><span class='ee-k'>4:</span><span class='ee-v'>-20</span></li><li><span class='ee-k'>5:</span><span class='ee-v'>5600040</span></li></ul></details></li><li><details><summary>data_type: unsigned int16</summary><ul><li><span class='ee-k'>type:</span><span class='ee-v'>PixelType</span></li><li><span class='ee-k'>max:</span><span class='ee-v'>65535</span></li><li><span class='ee-k'>min:</span><span class='ee-v'>0</span></li><li><span class='ee-k'>precision:</span><span class='ee-v'>int</span></li></ul></details></li><li><details><summary>dimensions: [5490, 5490]</summary><ul><li><span class='ee-k'>0:</span><span class='ee-v'>5490</span></li><li><span class='ee-k'>1:</span><span class='ee-v'>5490</span></li></ul></details></li></ul></details></li><li><details><summary>12: \"B12\", unsigned int16, EPSG:32634, 5490x5490 px</summary><ul><li><span class='ee-k'>id:</span><span class='ee-v'>B12</span></li><li><span class='ee-k'>crs:</span><span class='ee-v'>EPSG:32634</span></li><li><details><summary>crs_transform: [20, 0, 399960, 0, -20, 5600040]</summary><ul><li><span class='ee-k'>0:</span><span class='ee-v'>20</span></li><li><span class='ee-k'>1:</span><span class='ee-v'>0</span></li><li><span class='ee-k'>2:</span><span class='ee-v'>399960</span></li><li><span class='ee-k'>3:</span><span class='ee-v'>0</span></li><li><span class='ee-k'>4:</span><span class='ee-v'>-20</span></li><li><span class='ee-k'>5:</span><span class='ee-v'>5600040</span></li></ul></details></li><li><details><summary>data_type: unsigned int16</summary><ul><li><span class='ee-k'>type:</span><span class='ee-v'>PixelType</span></li><li><span class='ee-k'>max:</span><span class='ee-v'>65535</span></li><li><span class='ee-k'>min:</span><span class='ee-v'>0</span></li><li><span class='ee-k'>precision:</span><span class='ee-v'>int</span></li></ul></details></li><li><details><summary>dimensions: [5490, 5490]</summary><ul><li><span class='ee-k'>0:</span><span class='ee-v'>5490</span></li><li><span class='ee-k'>1:</span><span class='ee-v'>5490</span></li></ul></details></li></ul></details></li><li><details><summary>13: \"QA10\", unsigned int16, EPSG:4326</summary><ul><li><span class='ee-k'>id:</span><span class='ee-v'>QA10</span></li><li><span class='ee-k'>crs:</span><span class='ee-v'>EPSG:4326</span></li><li><details><summary>crs_transform: [1, 0, 0, 0, 1, 0]</summary><ul><li><span class='ee-k'>0:</span><span class='ee-v'>1</span></li><li><span class='ee-k'>1:</span><span class='ee-v'>0</span></li><li><span class='ee-k'>2:</span><span class='ee-v'>0</span></li><li><span class='ee-k'>3:</span><span class='ee-v'>0</span></li><li><span class='ee-k'>4:</span><span class='ee-v'>1</span></li><li><span class='ee-k'>5:</span><span class='ee-v'>0</span></li></ul></details></li><li><details><summary>data_type: unsigned int16</summary><ul><li><span class='ee-k'>type:</span><span class='ee-v'>PixelType</span></li><li><span class='ee-k'>max:</span><span class='ee-v'>65535</span></li><li><span class='ee-k'>min:</span><span class='ee-v'>0</span></li><li><span class='ee-k'>precision:</span><span class='ee-v'>int</span></li></ul></details></li></ul></details></li><li><details><summary>14: \"QA20\", unsigned int32, EPSG:4326</summary><ul><li><span class='ee-k'>id:</span><span class='ee-v'>QA20</span></li><li><span class='ee-k'>crs:</span><span class='ee-v'>EPSG:4326</span></li><li><details><summary>crs_transform: [1, 0, 0, 0, 1, 0]</summary><ul><li><span class='ee-k'>0:</span><span class='ee-v'>1</span></li><li><span class='ee-k'>1:</span><span class='ee-v'>0</span></li><li><span class='ee-k'>2:</span><span class='ee-v'>0</span></li><li><span class='ee-k'>3:</span><span class='ee-v'>0</span></li><li><span class='ee-k'>4:</span><span class='ee-v'>1</span></li><li><span class='ee-k'>5:</span><span class='ee-v'>0</span></li></ul></details></li><li><details><summary>data_type: unsigned int32</summary><ul><li><span class='ee-k'>type:</span><span class='ee-v'>PixelType</span></li><li><span class='ee-k'>max:</span><span class='ee-v'>4294967295</span></li><li><span class='ee-k'>min:</span><span class='ee-v'>0</span></li><li><span class='ee-k'>precision:</span><span class='ee-v'>int</span></li></ul></details></li></ul></details></li><li><details><summary>15: \"QA60\", unsigned int16, EPSG:32634, 1830x1830 px</summary><ul><li><span class='ee-k'>id:</span><span class='ee-v'>QA60</span></li><li><span class='ee-k'>crs:</span><span class='ee-v'>EPSG:32634</span></li><li><details><summary>crs_transform: [60, 0, 399960, 0, -60, 5600040]</summary><ul><li><span class='ee-k'>0:</span><span class='ee-v'>60</span></li><li><span class='ee-k'>1:</span><span class='ee-v'>0</span></li><li><span class='ee-k'>2:</span><span class='ee-v'>399960</span></li><li><span class='ee-k'>3:</span><span class='ee-v'>0</span></li><li><span class='ee-k'>4:</span><span class='ee-v'>-60</span></li><li><span class='ee-k'>5:</span><span class='ee-v'>5600040</span></li></ul></details></li><li><details><summary>data_type: unsigned int16</summary><ul><li><span class='ee-k'>type:</span><span class='ee-v'>PixelType</span></li><li><span class='ee-k'>max:</span><span class='ee-v'>65535</span></li><li><span class='ee-k'>min:</span><span class='ee-v'>0</span></li><li><span class='ee-k'>precision:</span><span class='ee-v'>int</span></li></ul></details></li><li><details><summary>dimensions: [1830, 1830]</summary><ul><li><span class='ee-k'>0:</span><span class='ee-v'>1830</span></li><li><span class='ee-k'>1:</span><span class='ee-v'>1830</span></li></ul></details></li></ul></details></li><li><details><summary>16: \"MSK_CLASSI_OPAQUE\", unsigned int8, EPSG:32634, 1830x1830 px</summary><ul><li><span class='ee-k'>id:</span><span class='ee-v'>MSK_CLASSI_OPAQUE</span></li><li><span class='ee-k'>crs:</span><span class='ee-v'>EPSG:32634</span></li><li><details><summary>crs_transform: [60, 0, 399960, 0, -60, 5600040]</summary><ul><li><span class='ee-k'>0:</span><span class='ee-v'>60</span></li><li><span class='ee-k'>1:</span><span class='ee-v'>0</span></li><li><span class='ee-k'>2:</span><span class='ee-v'>399960</span></li><li><span class='ee-k'>3:</span><span class='ee-v'>0</span></li><li><span class='ee-k'>4:</span><span class='ee-v'>-60</span></li><li><span class='ee-k'>5:</span><span class='ee-v'>5600040</span></li></ul></details></li><li><details><summary>data_type: unsigned int8</summary><ul><li><span class='ee-k'>type:</span><span class='ee-v'>PixelType</span></li><li><span class='ee-k'>max:</span><span class='ee-v'>255</span></li><li><span class='ee-k'>min:</span><span class='ee-v'>0</span></li><li><span class='ee-k'>precision:</span><span class='ee-v'>int</span></li></ul></details></li><li><details><summary>dimensions: [1830, 1830]</summary><ul><li><span class='ee-k'>0:</span><span class='ee-v'>1830</span></li><li><span class='ee-k'>1:</span><span class='ee-v'>1830</span></li></ul></details></li></ul></details></li><li><details><summary>17: \"MSK_CLASSI_CIRRUS\", unsigned int8, EPSG:32634, 1830x1830 px</summary><ul><li><span class='ee-k'>id:</span><span class='ee-v'>MSK_CLASSI_CIRRUS</span></li><li><span class='ee-k'>crs:</span><span class='ee-v'>EPSG:32634</span></li><li><details><summary>crs_transform: [60, 0, 399960, 0, -60, 5600040]</summary><ul><li><span class='ee-k'>0:</span><span class='ee-v'>60</span></li><li><span class='ee-k'>1:</span><span class='ee-v'>0</span></li><li><span class='ee-k'>2:</span><span class='ee-v'>399960</span></li><li><span class='ee-k'>3:</span><span class='ee-v'>0</span></li><li><span class='ee-k'>4:</span><span class='ee-v'>-60</span></li><li><span class='ee-k'>5:</span><span class='ee-v'>5600040</span></li></ul></details></li><li><details><summary>data_type: unsigned int8</summary><ul><li><span class='ee-k'>type:</span><span class='ee-v'>PixelType</span></li><li><span class='ee-k'>max:</span><span class='ee-v'>255</span></li><li><span class='ee-k'>min:</span><span class='ee-v'>0</span></li><li><span class='ee-k'>precision:</span><span class='ee-v'>int</span></li></ul></details></li><li><details><summary>dimensions: [1830, 1830]</summary><ul><li><span class='ee-k'>0:</span><span class='ee-v'>1830</span></li><li><span class='ee-k'>1:</span><span class='ee-v'>1830</span></li></ul></details></li></ul></details></li><li><details><summary>18: \"MSK_CLASSI_SNOW_ICE\", unsigned int8, EPSG:32634, 1830x1830 px</summary><ul><li><span class='ee-k'>id:</span><span class='ee-v'>MSK_CLASSI_SNOW_ICE</span></li><li><span class='ee-k'>crs:</span><span class='ee-v'>EPSG:32634</span></li><li><details><summary>crs_transform: [60, 0, 399960, 0, -60, 5600040]</summary><ul><li><span class='ee-k'>0:</span><span class='ee-v'>60</span></li><li><span class='ee-k'>1:</span><span class='ee-v'>0</span></li><li><span class='ee-k'>2:</span><span class='ee-v'>399960</span></li><li><span class='ee-k'>3:</span><span class='ee-v'>0</span></li><li><span class='ee-k'>4:</span><span class='ee-v'>-60</span></li><li><span class='ee-k'>5:</span><span class='ee-v'>5600040</span></li></ul></details></li><li><details><summary>data_type: unsigned int8</summary><ul><li><span class='ee-k'>type:</span><span class='ee-v'>PixelType</span></li><li><span class='ee-k'>max:</span><span class='ee-v'>255</span></li><li><span class='ee-k'>min:</span><span class='ee-v'>0</span></li><li><span class='ee-k'>precision:</span><span class='ee-v'>int</span></li></ul></details></li><li><details><summary>dimensions: [1830, 1830]</summary><ul><li><span class='ee-k'>0:</span><span class='ee-v'>1830</span></li><li><span class='ee-k'>1:</span><span class='ee-v'>1830</span></li></ul></details></li></ul></details></li></ul></details></li><li><details><summary>properties: Object (80 properties)</summary><ul><li><span class='ee-k'>CLOUDY_PIXEL_PERCENTAGE:</span><span class='ee-v'>1.4798741439255</span></li><li><span class='ee-k'>CLOUD_COVERAGE_ASSESSMENT:</span><span class='ee-v'>1.479874143926</span></li><li><span class='ee-k'>DATASTRIP_ID:</span><span class='ee-v'>S2A_OPER_MSI_L1C_DS_2APS_20240730T133103_S20240730T095149_N05.11</span></li><li><span class='ee-k'>DATATAKE_IDENTIFIER:</span><span class='ee-v'>GS2A_20240730T095031_047552_N05.11</span></li><li><span class='ee-k'>DATATAKE_TYPE:</span><span class='ee-v'>INS-NOBS</span></li><li><span class='ee-k'>DEGRADED_MSI_DATA_PERCENTAGE:</span><span class='ee-v'>0.0292</span></li><li><span class='ee-k'>FORMAT_CORRECTNESS:</span><span class='ee-v'>PASSED</span></li><li><span class='ee-k'>GENERAL_QUALITY:</span><span class='ee-v'>PASSED</span></li><li><span class='ee-k'>GENERATION_TIME:</span><span class='ee-v'>1722346263000</span></li><li><span class='ee-k'>GEOMETRIC_QUALITY:</span><span class='ee-v'>PASSED</span></li><li><span class='ee-k'>GRANULE_ID:</span><span class='ee-v'>L1C_T34UDA_A047552_20240730T095149</span></li><li><span class='ee-k'>MEAN_INCIDENCE_AZIMUTH_ANGLE_B1:</span><span class='ee-v'>288.739019892079</span></li><li><span class='ee-k'>MEAN_INCIDENCE_AZIMUTH_ANGLE_B10:</span><span class='ee-v'>287.970282049312</span></li><li><span class='ee-k'>MEAN_INCIDENCE_AZIMUTH_ANGLE_B11:</span><span class='ee-v'>288.282100193978</span></li><li><span class='ee-k'>MEAN_INCIDENCE_AZIMUTH_ANGLE_B12:</span><span class='ee-v'>288.60450768455</span></li><li><span class='ee-k'>MEAN_INCIDENCE_AZIMUTH_ANGLE_B2:</span><span class='ee-v'>287.664946870172</span></li><li><span class='ee-k'>MEAN_INCIDENCE_AZIMUTH_ANGLE_B3:</span><span class='ee-v'>287.905757817844</span></li><li><span class='ee-k'>MEAN_INCIDENCE_AZIMUTH_ANGLE_B4:</span><span class='ee-v'>288.135640542945</span></li><li><span class='ee-k'>MEAN_INCIDENCE_AZIMUTH_ANGLE_B5:</span><span class='ee-v'>288.254324285379</span></li><li><span class='ee-k'>MEAN_INCIDENCE_AZIMUTH_ANGLE_B6:</span><span class='ee-v'>288.38905085324</span></li><li><span class='ee-k'>MEAN_INCIDENCE_AZIMUTH_ANGLE_B7:</span><span class='ee-v'>288.512419497348</span></li><li><span class='ee-k'>MEAN_INCIDENCE_AZIMUTH_ANGLE_B8:</span><span class='ee-v'>287.796249958853</span></li><li><span class='ee-k'>MEAN_INCIDENCE_AZIMUTH_ANGLE_B8A:</span><span class='ee-v'>288.697040521155</span></li><li><span class='ee-k'>MEAN_INCIDENCE_AZIMUTH_ANGLE_B9:</span><span class='ee-v'>288.899251578084</span></li><li><span class='ee-k'>MEAN_INCIDENCE_ZENITH_ANGLE_B1:</span><span class='ee-v'>8.62661619819685</span></li><li><span class='ee-k'>MEAN_INCIDENCE_ZENITH_ANGLE_B10:</span><span class='ee-v'>8.50283951552676</span></li><li><span class='ee-k'>MEAN_INCIDENCE_ZENITH_ANGLE_B11:</span><span class='ee-v'>8.5533630002883</span></li><li><span class='ee-k'>MEAN_INCIDENCE_ZENITH_ANGLE_B12:</span><span class='ee-v'>8.62091336048715</span></li><li><span class='ee-k'>MEAN_INCIDENCE_ZENITH_ANGLE_B2:</span><span class='ee-v'>8.43319729648482</span></li><li><span class='ee-k'>MEAN_INCIDENCE_ZENITH_ANGLE_B3:</span><span class='ee-v'>8.47262726775345</span></li><li><span class='ee-k'>MEAN_INCIDENCE_ZENITH_ANGLE_B4:</span><span class='ee-v'>8.50443692431509</span></li><li><span class='ee-k'>MEAN_INCIDENCE_ZENITH_ANGLE_B5:</span><span class='ee-v'>8.52517672135215</span></li><li><span class='ee-k'>MEAN_INCIDENCE_ZENITH_ANGLE_B6:</span><span class='ee-v'>8.54841237304058</span></li><li><span class='ee-k'>MEAN_INCIDENCE_ZENITH_ANGLE_B7:</span><span class='ee-v'>8.57403728682145</span></li><li><span class='ee-k'>MEAN_INCIDENCE_ZENITH_ANGLE_B8:</span><span class='ee-v'>8.45244850268398</span></li><li><span class='ee-k'>MEAN_INCIDENCE_ZENITH_ANGLE_B8A:</span><span class='ee-v'>8.60257025474843</span></li><li><span class='ee-k'>MEAN_INCIDENCE_ZENITH_ANGLE_B9:</span><span class='ee-v'>8.66810144764085</span></li><li><span class='ee-k'>MEAN_SOLAR_AZIMUTH_ANGLE:</span><span class='ee-v'>158.750318604603</span></li><li><span class='ee-k'>MEAN_SOLAR_ZENITH_ANGLE:</span><span class='ee-v'>33.158725634067</span></li><li><span class='ee-k'>MGRS_TILE:</span><span class='ee-v'>34UDA</span></li><li><span class='ee-k'>PROCESSING_BASELINE:</span><span class='ee-v'>05.11</span></li><li><span class='ee-k'>PRODUCT_ID:</span><span class='ee-v'>S2A_MSIL1C_20240730T095031_N0511_R079_T34UDA_20240730T133103</span></li><li><span class='ee-k'>RADIOMETRIC_QUALITY:</span><span class='ee-v'>PASSED</span></li><li><span class='ee-k'>RADIO_ADD_OFFSET_B1:</span><span class='ee-v'>-1000</span></li><li><span class='ee-k'>RADIO_ADD_OFFSET_B10:</span><span class='ee-v'>-1000</span></li><li><span class='ee-k'>RADIO_ADD_OFFSET_B11:</span><span class='ee-v'>-1000</span></li><li><span class='ee-k'>RADIO_ADD_OFFSET_B12:</span><span class='ee-v'>-1000</span></li><li><span class='ee-k'>RADIO_ADD_OFFSET_B2:</span><span class='ee-v'>-1000</span></li><li><span class='ee-k'>RADIO_ADD_OFFSET_B3:</span><span class='ee-v'>-1000</span></li><li><span class='ee-k'>RADIO_ADD_OFFSET_B4:</span><span class='ee-v'>-1000</span></li><li><span class='ee-k'>RADIO_ADD_OFFSET_B5:</span><span class='ee-v'>-1000</span></li><li><span class='ee-k'>RADIO_ADD_OFFSET_B6:</span><span class='ee-v'>-1000</span></li><li><span class='ee-k'>RADIO_ADD_OFFSET_B7:</span><span class='ee-v'>-1000</span></li><li><span class='ee-k'>RADIO_ADD_OFFSET_B8:</span><span class='ee-v'>-1000</span></li><li><span class='ee-k'>RADIO_ADD_OFFSET_B8A:</span><span class='ee-v'>-1000</span></li><li><span class='ee-k'>RADIO_ADD_OFFSET_B9:</span><span class='ee-v'>-1000</span></li><li><span class='ee-k'>REFLECTANCE_CONVERSION_CORRECTION:</span><span class='ee-v'>0.969607353882725</span></li><li><span class='ee-k'>SENSING_ORBIT_DIRECTION:</span><span class='ee-v'>DESCENDING</span></li><li><span class='ee-k'>SENSING_ORBIT_NUMBER:</span><span class='ee-v'>79</span></li><li><span class='ee-k'>SENSOR_QUALITY:</span><span class='ee-v'>PASSED</span></li><li><span class='ee-k'>SNOW_PIXEL_PERCENTAGE:</span><span class='ee-v'>0</span></li><li><span class='ee-k'>SOLAR_IRRADIANCE_B1:</span><span class='ee-v'>1884.69</span></li><li><span class='ee-k'>SOLAR_IRRADIANCE_B10:</span><span class='ee-v'>367.15</span></li><li><span class='ee-k'>SOLAR_IRRADIANCE_B11:</span><span class='ee-v'>245.59</span></li><li><span class='ee-k'>SOLAR_IRRADIANCE_B12:</span><span class='ee-v'>85.25</span></li><li><span class='ee-k'>SOLAR_IRRADIANCE_B2:</span><span class='ee-v'>1959.66</span></li><li><span class='ee-k'>SOLAR_IRRADIANCE_B3:</span><span class='ee-v'>1823.24</span></li><li><span class='ee-k'>SOLAR_IRRADIANCE_B4:</span><span class='ee-v'>1512.06</span></li><li><span class='ee-k'>SOLAR_IRRADIANCE_B5:</span><span class='ee-v'>1424.64</span></li><li><span class='ee-k'>SOLAR_IRRADIANCE_B6:</span><span class='ee-v'>1287.61</span></li><li><span class='ee-k'>SOLAR_IRRADIANCE_B7:</span><span class='ee-v'>1162.08</span></li><li><span class='ee-k'>SOLAR_IRRADIANCE_B8:</span><span class='ee-v'>1041.63</span></li><li><span class='ee-k'>SOLAR_IRRADIANCE_B8A:</span><span class='ee-v'>955.32</span></li><li><span class='ee-k'>SOLAR_IRRADIANCE_B9:</span><span class='ee-v'>812.92</span></li><li><span class='ee-k'>SPACECRAFT_NAME:</span><span class='ee-v'>Sentinel-2A</span></li><li><span class='ee-k'>system:asset_size:</span><span class='ee-v'>1046537710</span></li><li><details><summary>system:footprint: LinearRing (20 vertices)</summary><ul><li><span class='ee-k'>type:</span><span class='ee-v'>LinearRing</span></li><li><details><summary>coordinates: List (20 elements)</summary><ul><li><details><summary>0: [19.6166189410529, 49.556666070790655]</summary><ul><li><span class='ee-k'>0:</span><span class='ee-v'>19.6166189410529</span></li><li><span class='ee-k'>1:</span><span class='ee-v'>49.556666070790655</span></li></ul></details></li><li><details><summary>1: [19.61672874085912, 49.556577369838124]</summary><ul><li><span class='ee-k'>0:</span><span class='ee-v'>19.61672874085912</span></li><li><span class='ee-k'>1:</span><span class='ee-v'>49.556577369838124</span></li></ul></details></li><li><details><summary>2: [20.549558970781682, 49.56396834684581]</summary><ul><li><span class='ee-k'>0:</span><span class='ee-v'>20.549558970781682</span></li><li><span class='ee-k'>1:</span><span class='ee-v'>49.56396834684581</span></li></ul></details></li><li><details><summary>3: [20.550133389301013, 49.565111999907295]</summary><ul><li><span class='ee-k'>0:</span><span class='ee-v'>20.550133389301013</span></li><li><span class='ee-k'>1:</span><span class='ee-v'>49.565111999907295</span></li></ul></details></li><li><details><summary>4: [20.642502334002454, 49.755580820042645]</summary><ul><li><span class='ee-k'>0:</span><span class='ee-v'>20.642502334002454</span></li><li><span class='ee-k'>1:</span><span class='ee-v'>49.755580820042645</span></li></ul></details></li><li><details><summary>5: [20.678937823789873, 49.83034107449588]</summary><ul><li><span class='ee-k'>0:</span><span class='ee-v'>20.678937823789873</span></li><li><span class='ee-k'>1:</span><span class='ee-v'>49.83034107449588</span></li></ul></details></li><li><details><summary>6: [20.783378959876632, 50.04392489485137]</summary><ul><li><span class='ee-k'>0:</span><span class='ee-v'>20.783378959876632</span></li><li><span class='ee-k'>1:</span><span class='ee-v'>50.04392489485137</span></li></ul></details></li><li><details><summary>7: [20.815806899202762, 50.10999644067097]</summary><ul><li><span class='ee-k'>0:</span><span class='ee-v'>20.815806899202762</span></li><li><span class='ee-k'>1:</span><span class='ee-v'>50.10999644067097</span></li></ul></details></li><li><details><summary>8: [20.90663251272413, 50.29429685086632]</summary><ul><li><span class='ee-k'>0:</span><span class='ee-v'>20.90663251272413</span></li><li><span class='ee-k'>1:</span><span class='ee-v'>50.29429685086632</span></li></ul></details></li><li><details><summary>9: [20.910548708072156, 50.30221428423387]</summary><ul><li><span class='ee-k'>0:</span><span class='ee-v'>20.910548708072156</span></li><li><span class='ee-k'>1:</span><span class='ee-v'>50.30221428423387</span></li></ul></details></li><li><details><summary>10: [20.94276629570073, 50.36734788501869]</summary><ul><li><span class='ee-k'>0:</span><span class='ee-v'>20.94276629570073</span></li><li><span class='ee-k'>1:</span><span class='ee-v'>50.36734788501869</span></li></ul></details></li><li><details><summary>11: [21.009159260862944, 50.50127301299587]</summary><ul><li><span class='ee-k'>0:</span><span class='ee-v'>21.009159260862944</span></li><li><span class='ee-k'>1:</span><span class='ee-v'>50.50127301299587</span></li></ul></details></li><li><details><summary>12: [21.01169880296821, 50.506399156852]</summary><ul><li><span class='ee-k'>0:</span><span class='ee-v'>21.01169880296821</span></li><li><span class='ee-k'>1:</span><span class='ee-v'>50.506399156852</span></li></ul></details></li><li><details><summary>13: [21.013815377662475, 50.5107157994635]</summary><ul><li><span class='ee-k'>0:</span><span class='ee-v'>21.013815377662475</span></li><li><span class='ee-k'>1:</span><span class='ee-v'>50.5107157994635</span></li></ul></details></li><li><details><summary>14: [21.022709203552235, 50.52888083849155]</summary><ul><li><span class='ee-k'>0:</span><span class='ee-v'>21.022709203552235</span></li><li><span class='ee-k'>1:</span><span class='ee-v'>50.52888083849155</span></li></ul></details></li><li><details><summary>15: [21.034161132267663, 50.55227437386618]</summary><ul><li><span class='ee-k'>0:</span><span class='ee-v'>21.034161132267663</span></li><li><span class='ee-k'>1:</span><span class='ee-v'>50.55227437386618</span></li></ul></details></li><li><details><summary>16: [21.03407055716014, 50.55237714092827]</summary><ul><li><span class='ee-k'>0:</span><span class='ee-v'>21.03407055716014</span></li><li><span class='ee-k'>1:</span><span class='ee-v'>50.55237714092827</span></li></ul></details></li><li><details><summary>17: [19.587941863976454, 50.54382055124429]</summary><ul><li><span class='ee-k'>0:</span><span class='ee-v'>19.587941863976454</span></li><li><span class='ee-k'>1:</span><span class='ee-v'>50.54382055124429</span></li></ul></details></li><li><details><summary>18: [19.60248044605535, 50.050220923744725]</summary><ul><li><span class='ee-k'>0:</span><span class='ee-v'>19.60248044605535</span></li><li><span class='ee-k'>1:</span><span class='ee-v'>50.050220923744725</span></li></ul></details></li><li><details><summary>19: [19.6166189410529, 49.556666070790655]</summary><ul><li><span class='ee-k'>0:</span><span class='ee-v'>19.6166189410529</span></li><li><span class='ee-k'>1:</span><span class='ee-v'>49.556666070790655</span></li></ul></details></li></ul></details></li></ul></details></li><li><span class='ee-k'>system:index:</span><span class='ee-v'>20240730T095031_20240730T095149_T34UDA</span></li><li><span class='ee-k'>system:time_end:</span><span class='ee-v'>1722333402532</span></li><li><span class='ee-k'>system:time_start:</span><span class='ee-v'>1722333402532</span></li></ul></details></li></ul></details></li></ul></div></div>"
      ],
      "text/plain": [
       "<ee.image.Image at 0x2b7287ef990>"
      ]
     },
     "execution_count": 37,
     "metadata": {},
     "output_type": "execute_result"
    }
   ],
   "source": [
    "image_case = (\n",
    "    ee.ImageCollection('COPERNICUS/S2_HARMONIZED')\n",
    "    .filterBounds(polygon.geometry())\n",
    "    .filterDate(f'2024-07-01', f'2024-07-31')\n",
    "    .sort('CLOUDY_PIXEL_PERCENTAGE')\n",
    "    .first()\n",
    ")\n",
    "image_case"
   ]
  },
  {
   "cell_type": "code",
   "execution_count": 14,
   "id": "885d6961",
   "metadata": {},
   "outputs": [
    {
     "data": {
      "text/html": [
       "\n",
       "            <style>\n",
       "                .geemap-dark {\n",
       "                    --jp-widgets-color: white;\n",
       "                    --jp-widgets-label-color: white;\n",
       "                    --jp-ui-font-color1: white;\n",
       "                    --jp-layout-color2: #454545;\n",
       "                    background-color: #383838;\n",
       "                }\n",
       "\n",
       "                .geemap-dark .jupyter-button {\n",
       "                    --jp-layout-color3: #383838;\n",
       "                }\n",
       "\n",
       "                .geemap-colab {\n",
       "                    background-color: var(--colab-primary-surface-color, white);\n",
       "                }\n",
       "\n",
       "                .geemap-colab .jupyter-button {\n",
       "                    --jp-layout-color3: var(--colab-primary-surface-color, white);\n",
       "                }\n",
       "            </style>\n",
       "            "
      ],
      "text/plain": [
       "<IPython.core.display.HTML object>"
      ]
     },
     "metadata": {},
     "output_type": "display_data"
    },
    {
     "name": "stdout",
     "output_type": "stream",
     "text": [
      "50.094972773723526, 19.625012901371132, 50.11341026110655, 19.649379925684382\n"
     ]
    }
   ],
   "source": [
    "rectangle_case = polygon.geometry().buffer(500).bounds()\n",
    "\n",
    "bounds = rectangle_case.bounds().getInfo()['coordinates'][0]\n",
    "\n",
    "# Overpass potrzebuje: (S, W, N, E)\n",
    "lats = [pt[1] for pt in bounds]\n",
    "lons = [pt[0] for pt in bounds]\n",
    "\n",
    "south = min(lats)\n",
    "north = max(lats)\n",
    "west = min(lons)\n",
    "east = max(lons)\n",
    "\n",
    "print(f\"{south}, {west}, {north}, {east}\")\n"
   ]
  },
  {
   "cell_type": "code",
   "execution_count": 40,
   "id": "21f84479",
   "metadata": {},
   "outputs": [
    {
     "data": {
      "text/html": [
       "\n",
       "            <style>\n",
       "                .geemap-dark {\n",
       "                    --jp-widgets-color: white;\n",
       "                    --jp-widgets-label-color: white;\n",
       "                    --jp-ui-font-color1: white;\n",
       "                    --jp-layout-color2: #454545;\n",
       "                    background-color: #383838;\n",
       "                }\n",
       "\n",
       "                .geemap-dark .jupyter-button {\n",
       "                    --jp-layout-color3: #383838;\n",
       "                }\n",
       "\n",
       "                .geemap-colab {\n",
       "                    background-color: var(--colab-primary-surface-color, white);\n",
       "                }\n",
       "\n",
       "                .geemap-colab .jupyter-button {\n",
       "                    --jp-layout-color3: var(--colab-primary-surface-color, white);\n",
       "                }\n",
       "            </style>\n",
       "            "
      ],
      "text/plain": [
       "<IPython.core.display.HTML object>"
      ]
     },
     "metadata": {},
     "output_type": "display_data"
    }
   ],
   "source": [
    "rectangle_case = polygon.geometry().buffer(500).bounds()\n",
    "\n",
    "image_case = image_case.clip(rectangle_case)\n",
    "rgb_case = image_case.select(['B4', 'B3', 'B2'])\n",
    "ndvi_case = image_case.normalizedDifference(['B8', 'B4'])\n",
    "bare_soil_case = ndvi_case.lt(0.18)\n",
    "    "
   ]
  },
  {
   "cell_type": "code",
   "execution_count": 58,
   "id": "c46f99ff",
   "metadata": {},
   "outputs": [
    {
     "data": {
      "text/html": [
       "\n",
       "            <style>\n",
       "                .geemap-dark {\n",
       "                    --jp-widgets-color: white;\n",
       "                    --jp-widgets-label-color: white;\n",
       "                    --jp-ui-font-color1: white;\n",
       "                    --jp-layout-color2: #454545;\n",
       "                    background-color: #383838;\n",
       "                }\n",
       "\n",
       "                .geemap-dark .jupyter-button {\n",
       "                    --jp-layout-color3: #383838;\n",
       "                }\n",
       "\n",
       "                .geemap-colab {\n",
       "                    background-color: var(--colab-primary-surface-color, white);\n",
       "                }\n",
       "\n",
       "                .geemap-colab .jupyter-button {\n",
       "                    --jp-layout-color3: var(--colab-primary-surface-color, white);\n",
       "                }\n",
       "            </style>\n",
       "            "
      ],
      "text/plain": [
       "<IPython.core.display.HTML object>"
      ]
     },
     "metadata": {},
     "output_type": "display_data"
    }
   ],
   "source": [
    "\n",
    "ones_case = ee.Image.constant(1).clip(rectangle_case)\n",
    "polygon_mask_case = ee.Image.constant(1).clip(polygon)\n",
    "outside_mask_case = ones_case.where(polygon_mask_case.eq(1), 0)\n",
    "\n",
    "exceeded_case = bare_soil_case.updateMask(outside_mask_case)\n",
    "\n",
    "ones_case_b = ee.Image.constant(1).clip(rectangle_case)\n",
    "\n",
    "buildings_mask = ee.Image().byte().paint(featureCollection=buildings, color=1).clip(rectangle_case)\n",
    "buildings_mask = ones_case.where(buildings_mask.eq(1), 0)\n",
    "\n",
    "# buildings_mask = buildings_mask.neq(1)\n",
    "\n",
    "# Odwracamy maskę: 1 tam, gdzie NIE MA budynków\n",
    "# non_building_mask = buildings_mask.neq(1)\n",
    "\n",
    "# Zastosuj maskę — usuń piksele w miejscach budynków\n",
    "exceeded_case = exceeded_case.updateMask(buildings_mask)\n"
   ]
  },
  {
   "cell_type": "code",
   "execution_count": 59,
   "id": "5196a8c0",
   "metadata": {},
   "outputs": [
    {
     "data": {
      "text/html": [
       "\n",
       "            <style>\n",
       "                .geemap-dark {\n",
       "                    --jp-widgets-color: white;\n",
       "                    --jp-widgets-label-color: white;\n",
       "                    --jp-ui-font-color1: white;\n",
       "                    --jp-layout-color2: #454545;\n",
       "                    background-color: #383838;\n",
       "                }\n",
       "\n",
       "                .geemap-dark .jupyter-button {\n",
       "                    --jp-layout-color3: #383838;\n",
       "                }\n",
       "\n",
       "                .geemap-colab {\n",
       "                    background-color: var(--colab-primary-surface-color, white);\n",
       "                }\n",
       "\n",
       "                .geemap-colab .jupyter-button {\n",
       "                    --jp-layout-color3: var(--colab-primary-surface-color, white);\n",
       "                }\n",
       "            </style>\n",
       "            "
      ],
      "text/plain": [
       "<IPython.core.display.HTML object>"
      ]
     },
     "metadata": {},
     "output_type": "display_data"
    },
    {
     "data": {
      "application/vnd.jupyter.widget-view+json": {
       "model_id": "8e93dd7a22104def8aa0b7fc4ed81543",
       "version_major": 2,
       "version_minor": 0
      },
      "text/plain": [
       "Map(center=[50.10339412565508, 19.63649860680545], controls=(WidgetControl(options=['position', 'transparent_b…"
      ]
     },
     "execution_count": 59,
     "metadata": {},
     "output_type": "execute_result"
    }
   ],
   "source": [
    "\n",
    "ndvi_vis = {'min': -1, 'max': 1, 'palette': ['blue', 'white', 'green']}\n",
    "rgb_vis = {'min': 0, 'max': 3000}\n",
    "polygon_style = {\"color\": \"red\", \"fillColor\": \"00000000\", \"width\": 1}\n",
    "bare_soil_vis = {'min': 0, 'max': 1, 'palette': ['black', 'white']}\n",
    "buildings_style = {\"color\": \"green\", \"fillColor\": \"00000000\", \"width\": 1}\n",
    "exceeded_vis = {'min': 0, 'max': 1, 'palette': ['black', 'yellow']}\n",
    "\n",
    "map = geemap.Map()\n",
    "map.centerObject(polygon, zoom=15)\n",
    "map.add_layer(rgb_case, rgb_vis, \"orthophotomap\")\n",
    "map.add_layer(ndvi_case, ndvi_vis, \"NDVI\")\n",
    "map.add_layer(bare_soil_case, bare_soil_vis, \"bare soil mask\")\n",
    "map.add_layer(exceeded_case, exceeded_vis, \"exceeded\")\n",
    "map.add_layer(polygon.style(**polygon_style), {}, \"mining area\")\n",
    "map.add_layer(buildings_mask, {'min': 0, 'max': 1, 'palette': ['red', 'purple']}, \"buildings\")\n",
    "\n",
    "map.add_layer(buildings.style(**buildings_style), {}, \"Buildings (OSM)\")\n",
    "\n",
    "map"
   ]
  },
  {
   "cell_type": "markdown",
   "id": "1dcaffb0",
   "metadata": {},
   "source": [
    "### TIME SERIES"
   ]
  },
  {
   "cell_type": "code",
   "execution_count": 4,
   "id": "aa1018a1",
   "metadata": {},
   "outputs": [
    {
     "data": {
      "text/html": [
       "\n",
       "            <style>\n",
       "                .geemap-dark {\n",
       "                    --jp-widgets-color: white;\n",
       "                    --jp-widgets-label-color: white;\n",
       "                    --jp-ui-font-color1: white;\n",
       "                    --jp-layout-color2: #454545;\n",
       "                    background-color: #383838;\n",
       "                }\n",
       "\n",
       "                .geemap-dark .jupyter-button {\n",
       "                    --jp-layout-color3: #383838;\n",
       "                }\n",
       "\n",
       "                .geemap-colab {\n",
       "                    background-color: var(--colab-primary-surface-color, white);\n",
       "                }\n",
       "\n",
       "                .geemap-colab .jupyter-button {\n",
       "                    --jp-layout-color3: var(--colab-primary-surface-color, white);\n",
       "                }\n",
       "            </style>\n",
       "            "
      ],
      "text/plain": [
       "<IPython.core.display.HTML object>"
      ]
     },
     "metadata": {},
     "output_type": "display_data"
    },
    {
     "data": {
      "text/plain": [
       "['2016-01-14',\n",
       " '2016-03-24',\n",
       " '2016-04-03',\n",
       " '2016-05-23',\n",
       " '2016-06-29',\n",
       " '2016-07-02',\n",
       " '2016-08-28',\n",
       " '2016-09-10',\n",
       " '2016-11-29',\n",
       " '2016-12-16',\n",
       " '2017-01-28',\n",
       " '2017-02-27',\n",
       " '2017-04-05',\n",
       " '2017-05-28',\n",
       " '2017-06-27',\n",
       " '2017-07-22',\n",
       " '2017-08-08',\n",
       " '2017-09-27',\n",
       " '2017-10-02',\n",
       " '2017-11-04',\n",
       " '2017-12-26',\n",
       " '2018-02-19',\n",
       " '2018-03-04',\n",
       " '2018-04-20',\n",
       " '2018-05-13',\n",
       " '2018-06-07',\n",
       " '2018-08-13',\n",
       " '2018-09-12',\n",
       " '2018-10-05',\n",
       " '2018-11-06',\n",
       " '2019-02-19',\n",
       " '2019-03-24',\n",
       " '2019-04-20',\n",
       " '2019-05-25',\n",
       " '2019-06-09',\n",
       " '2019-07-29',\n",
       " '2019-08-26',\n",
       " '2019-09-22',\n",
       " '2019-10-20',\n",
       " '2019-11-01',\n",
       " '2019-12-11',\n",
       " '2020-01-03',\n",
       " '2020-03-28',\n",
       " '2020-04-02',\n",
       " '2020-05-09',\n",
       " '2020-07-01',\n",
       " '2020-08-22',\n",
       " '2020-09-09',\n",
       " '2020-10-06',\n",
       " '2020-11-08',\n",
       " '2021-02-26',\n",
       " '2021-03-03',\n",
       " '2021-04-09',\n",
       " '2021-05-12',\n",
       " '2021-06-21',\n",
       " '2021-07-13',\n",
       " '2021-08-20',\n",
       " '2021-09-06',\n",
       " '2021-10-09',\n",
       " '2021-11-25',\n",
       " '2022-01-09',\n",
       " '2022-02-16',\n",
       " '2022-03-25',\n",
       " '2022-04-12',\n",
       " '2022-05-19',\n",
       " '2022-06-03',\n",
       " '2022-07-21',\n",
       " '2022-08-05',\n",
       " '2022-09-01',\n",
       " '2022-10-26',\n",
       " '2022-11-15',\n",
       " '2022-12-25',\n",
       " '2023-01-12',\n",
       " '2023-02-06',\n",
       " '2023-03-20',\n",
       " '2023-04-22',\n",
       " '2023-05-27',\n",
       " '2023-06-03',\n",
       " '2023-07-08',\n",
       " '2023-08-15',\n",
       " '2023-09-06',\n",
       " '2023-10-14',\n",
       " '2023-11-08',\n",
       " '2023-12-18',\n",
       " '2024-01-29',\n",
       " '2024-02-16',\n",
       " '2024-03-27',\n",
       " '2024-05-28',\n",
       " '2024-06-17',\n",
       " '2024-07-30',\n",
       " '2024-08-14',\n",
       " '2024-09-18',\n",
       " '2024-10-18',\n",
       " '2024-11-17',\n",
       " '2024-12-29',\n",
       " '2025-01-18',\n",
       " '2025-02-22',\n",
       " '2025-03-19']"
      ]
     },
     "execution_count": 4,
     "metadata": {},
     "output_type": "execute_result"
    }
   ],
   "source": [
    "actual_date_list = []\n",
    "image_list = []\n",
    "\n",
    "rectangle = polygon.geometry().buffer(500).bounds()\n",
    "\n",
    "for start_date, end_date in zip(date_list_start, date_list_end):\n",
    "    sentinel = (\n",
    "        ee.ImageCollection('COPERNICUS/S2_HARMONIZED')\n",
    "        .filterBounds(polygon.geometry())\n",
    "        .filterDate(start_date, end_date)\n",
    "        .sort('CLOUDY_PIXEL_PERCENTAGE')\n",
    "        .first()\n",
    "    )\n",
    "    \n",
    "    if sentinel is not None:\n",
    "        qa = sentinel.select('QA60').clip(rectangle)\n",
    "        cloud_mask = qa.bitwiseAnd(1 << 10).neq(0)\n",
    "        \n",
    "        cloud_mask = cloud_mask.reduceRegion(\n",
    "            reducer = ee.Reducer.mean(),\n",
    "            geometry = rectangle,\n",
    "            scale = 10,\n",
    "            maxPixels = 1e9\n",
    "        )\n",
    "\n",
    "        cloud_cover = cloud_mask.get('QA60')\n",
    "        \n",
    "        if cloud_cover.getInfo() * 100 <= 0:\n",
    "            date = ee.Date(sentinel.get('system:time_start')).format('YYYY-MM-dd').getInfo()\n",
    "            image_list.append(sentinel)\n",
    "            actual_date_list.append(date)\n",
    "        \n",
    "actual_date_list"
   ]
  },
  {
   "cell_type": "code",
   "execution_count": 6,
   "id": "a54281c5",
   "metadata": {},
   "outputs": [
    {
     "data": {
      "text/html": [
       "\n",
       "            <style>\n",
       "                .geemap-dark {\n",
       "                    --jp-widgets-color: white;\n",
       "                    --jp-widgets-label-color: white;\n",
       "                    --jp-ui-font-color1: white;\n",
       "                    --jp-layout-color2: #454545;\n",
       "                    background-color: #383838;\n",
       "                }\n",
       "\n",
       "                .geemap-dark .jupyter-button {\n",
       "                    --jp-layout-color3: #383838;\n",
       "                }\n",
       "\n",
       "                .geemap-colab {\n",
       "                    background-color: var(--colab-primary-surface-color, white);\n",
       "                }\n",
       "\n",
       "                .geemap-colab .jupyter-button {\n",
       "                    --jp-layout-color3: var(--colab-primary-surface-color, white);\n",
       "                }\n",
       "            </style>\n",
       "            "
      ],
      "text/plain": [
       "<IPython.core.display.HTML object>"
      ]
     },
     "metadata": {},
     "output_type": "display_data"
    }
   ],
   "source": [
    "bare_soil_list = []\n",
    "\n",
    "for image in image_list:\n",
    "    image = image.clip(rectangle)\n",
    "    rgb = image.select(['B4', 'B3', 'B2'])\n",
    "    ndvi = image.normalizedDifference(['B8', 'B4'])\n",
    "    \n",
    "    bare_soil = ndvi.lt(0.18)\n",
    "    bare_soil_list.append(bare_soil)\n",
    "    \n",
    "exceeded_list = []\n",
    "\n",
    "for bare_soil in bare_soil_list:\n",
    "    ones = ee.Image.constant(1).clip(rectangle)\n",
    "    polygon_mask = ee.Image.constant(1).clip(polygon)\n",
    "    outside_mask = ones.where(polygon_mask.eq(1), 0)\n",
    "\n",
    "    exceeded = bare_soil.updateMask(outside_mask)\n",
    "    exceeded_list.append(exceeded)"
   ]
  },
  {
   "cell_type": "code",
   "execution_count": 12,
   "id": "51d74ecf",
   "metadata": {},
   "outputs": [
    {
     "data": {
      "text/html": [
       "\n",
       "            <style>\n",
       "                .geemap-dark {\n",
       "                    --jp-widgets-color: white;\n",
       "                    --jp-widgets-label-color: white;\n",
       "                    --jp-ui-font-color1: white;\n",
       "                    --jp-layout-color2: #454545;\n",
       "                    background-color: #383838;\n",
       "                }\n",
       "\n",
       "                .geemap-dark .jupyter-button {\n",
       "                    --jp-layout-color3: #383838;\n",
       "                }\n",
       "\n",
       "                .geemap-colab {\n",
       "                    background-color: var(--colab-primary-surface-color, white);\n",
       "                }\n",
       "\n",
       "                .geemap-colab .jupyter-button {\n",
       "                    --jp-layout-color3: var(--colab-primary-surface-color, white);\n",
       "                }\n",
       "            </style>\n",
       "            "
      ],
      "text/plain": [
       "<IPython.core.display.HTML object>"
      ]
     },
     "metadata": {},
     "output_type": "display_data"
    },
    {
     "data": {
      "application/vnd.jupyter.widget-view+json": {
       "model_id": "8c8e6c38d8c64365955949b07005588c",
       "version_major": 2,
       "version_minor": 0
      },
      "text/plain": [
       "Map(center=[50.10339412565508, 19.63649860680545], controls=(WidgetControl(options=['position', 'transparent_b…"
      ]
     },
     "execution_count": 12,
     "metadata": {},
     "output_type": "execute_result"
    }
   ],
   "source": [
    "ndvi_vis = {'min': -1, 'max': 1, 'palette': ['blue', 'white', 'green']}\n",
    "rgb_vis = {'min': 0, 'max': 3000}\n",
    "polygon_style = {\"color\": \"red\", \"fillColor\": \"00000000\", \"width\": 1}\n",
    "bare_soil_vis = {'min': 0, 'max': 1, 'palette': ['black', 'white']}\n",
    "exceeded_vis = {'min': 0, 'max': 1, 'palette': ['black', 'yellow']}\n",
    "color_palette = ['red', 'blue', 'green', 'yellow', 'purple']\n",
    "\n",
    "map = geemap.Map()\n",
    "map.centerObject(polygon, zoom=15)\n",
    "map.add_layer(rgb, rgb_vis, \"orthophotomap\")\n",
    "map.add_layer(ndvi, ndvi_vis, \"NDVI\")\n",
    "map.add_layer(exceeded_list[13], exceeded_vis, f\"exceeded {actual_date_list[13]}\")\n",
    "    \n",
    "map.add_layer(polygon.style(**polygon_style), {}, \"mining area\")\n",
    "map\n"
   ]
  }
 ],
 "metadata": {
  "kernelspec": {
   "display_name": "venvMining",
   "language": "python",
   "name": "python3"
  },
  "language_info": {
   "codemirror_mode": {
    "name": "ipython",
    "version": 3
   },
   "file_extension": ".py",
   "mimetype": "text/x-python",
   "name": "python",
   "nbconvert_exporter": "python",
   "pygments_lexer": "ipython3",
   "version": "3.11.11"
  }
 },
 "nbformat": 4,
 "nbformat_minor": 5
}
