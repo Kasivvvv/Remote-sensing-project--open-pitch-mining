{
 "cells": [
  {
   "cell_type": "code",
   "execution_count": 65,
   "id": "initial_id",
   "metadata": {
    "ExecuteTime": {
     "end_time": "2025-04-07T17:57:52.219987Z",
     "start_time": "2025-04-07T17:57:50.840989Z"
    },
    "collapsed": true
   },
   "outputs": [
    {
     "data": {
      "text/html": [
       "\n",
       "            <style>\n",
       "                .geemap-dark {\n",
       "                    --jp-widgets-color: white;\n",
       "                    --jp-widgets-label-color: white;\n",
       "                    --jp-ui-font-color1: white;\n",
       "                    --jp-layout-color2: #454545;\n",
       "                    background-color: #383838;\n",
       "                }\n",
       "\n",
       "                .geemap-dark .jupyter-button {\n",
       "                    --jp-layout-color3: #383838;\n",
       "                }\n",
       "\n",
       "                .geemap-colab {\n",
       "                    background-color: var(--colab-primary-surface-color, white);\n",
       "                }\n",
       "\n",
       "                .geemap-colab .jupyter-button {\n",
       "                    --jp-layout-color3: var(--colab-primary-surface-color, white);\n",
       "                }\n",
       "            </style>\n",
       "            "
      ],
      "text/plain": [
       "<IPython.core.display.HTML object>"
      ]
     },
     "metadata": {},
     "output_type": "display_data"
    }
   ],
   "source": [
    "import ee\n",
    "import geemap\n",
    "import geopandas as gpd\n",
    "import json\n",
    "\n",
    "# ee.Authenticate()\n",
    "ee.Initialize(project=\"ee-zuzannaslobodzian2\")"
   ]
  },
  {
   "cell_type": "code",
   "execution_count": 66,
   "id": "68bb9d6cb0f389db",
   "metadata": {
    "ExecuteTime": {
     "end_time": "2025-04-07T17:57:54.493129Z",
     "start_time": "2025-04-07T17:57:53.367341Z"
    }
   },
   "outputs": [
    {
     "data": {
      "text/html": [
       "\n",
       "            <style>\n",
       "                .geemap-dark {\n",
       "                    --jp-widgets-color: white;\n",
       "                    --jp-widgets-label-color: white;\n",
       "                    --jp-ui-font-color1: white;\n",
       "                    --jp-layout-color2: #454545;\n",
       "                    background-color: #383838;\n",
       "                }\n",
       "\n",
       "                .geemap-dark .jupyter-button {\n",
       "                    --jp-layout-color3: #383838;\n",
       "                }\n",
       "\n",
       "                .geemap-colab {\n",
       "                    background-color: var(--colab-primary-surface-color, white);\n",
       "                }\n",
       "\n",
       "                .geemap-colab .jupyter-button {\n",
       "                    --jp-layout-color3: var(--colab-primary-surface-color, white);\n",
       "                }\n",
       "            </style>\n",
       "            "
      ],
      "text/plain": [
       "<IPython.core.display.HTML object>"
      ]
     },
     "metadata": {},
     "output_type": "display_data"
    }
   ],
   "source": [
    "with open(\"C:\\\\space_technologies\\\\OpenPitMining\\\\niedzwedzia_gora\\\\niedzwiedzia_gora_polygon.geojson\") as f:\n",
    "    geojson_data = json.load(f)\n",
    "\n",
    "polygon = geemap.geojson_to_ee(geojson_data)\n",
    "\n",
    "image = (\n",
    "    ee.ImageCollection('COPERNICUS/S2_HARMONIZED')\n",
    "    .filterBounds(polygon.geometry())\n",
    "    .filterDate('2025-03-01', '2025-03-31')\n",
    "    .sort('CLOUDY_PIXEL_PERCENTAGE')\n",
    "    .first()\n",
    ")"
   ]
  },
  {
   "cell_type": "code",
   "execution_count": 67,
   "id": "a54281c5",
   "metadata": {},
   "outputs": [
    {
     "data": {
      "text/html": [
       "\n",
       "            <style>\n",
       "                .geemap-dark {\n",
       "                    --jp-widgets-color: white;\n",
       "                    --jp-widgets-label-color: white;\n",
       "                    --jp-ui-font-color1: white;\n",
       "                    --jp-layout-color2: #454545;\n",
       "                    background-color: #383838;\n",
       "                }\n",
       "\n",
       "                .geemap-dark .jupyter-button {\n",
       "                    --jp-layout-color3: #383838;\n",
       "                }\n",
       "\n",
       "                .geemap-colab {\n",
       "                    background-color: var(--colab-primary-surface-color, white);\n",
       "                }\n",
       "\n",
       "                .geemap-colab .jupyter-button {\n",
       "                    --jp-layout-color3: var(--colab-primary-surface-color, white);\n",
       "                }\n",
       "            </style>\n",
       "            "
      ],
      "text/plain": [
       "<IPython.core.display.HTML object>"
      ]
     },
     "metadata": {},
     "output_type": "display_data"
    },
    {
     "data": {
      "application/vnd.jupyter.widget-view+json": {
       "model_id": "0f805761c2e44ca8a7e5bc68e9c8871b",
       "version_major": 2,
       "version_minor": 0
      },
      "text/plain": [
       "Map(center=[50.10339412565508, 19.63649860680545], controls=(WidgetControl(options=['position', 'transparent_b…"
      ]
     },
     "execution_count": 67,
     "metadata": {},
     "output_type": "execute_result"
    }
   ],
   "source": [
    "rectangle = polygon.geometry().bounds().buffer(500)\n",
    "\n",
    "image = image.clip(rectangle)\n",
    "\n",
    "rgb = image.select(['B4', 'B3', 'B2'])\n",
    "ndvi = image.normalizedDifference(['B8', 'B4'])\n",
    "bare_soil_mask = ndvi.lt(0.18)\n",
    "\n",
    "ndvi_vis = {'min': -1, 'max': 1, 'palette': ['blue', 'white', 'green']}\n",
    "rgb_vis = {'min': 0, 'max': 3000}\n",
    "polygon_style = {\n",
    "    \"color\": \"red\",\n",
    "    \"fillColor\": \"00000000\",\n",
    "    \"width\": 2\n",
    "}\n",
    "\n",
    "map = geemap.Map()\n",
    "map.centerObject(polygon, zoom=15)\n",
    "map.add_layer(rgb, rgb_vis, \"ortofotomapa\")\n",
    "map.add_layer(ndvi, ndvi_vis, \"NDVI\")\n",
    "map.add_layer(polygon.style(**polygon_style), {}, \"obszar górniczy\")\n",
    "map\n"
   ]
  },
  {
   "cell_type": "code",
   "execution_count": 68,
   "id": "9de55375",
   "metadata": {},
   "outputs": [
    {
     "data": {
      "text/html": [
       "\n",
       "            <style>\n",
       "                .geemap-dark {\n",
       "                    --jp-widgets-color: white;\n",
       "                    --jp-widgets-label-color: white;\n",
       "                    --jp-ui-font-color1: white;\n",
       "                    --jp-layout-color2: #454545;\n",
       "                    background-color: #383838;\n",
       "                }\n",
       "\n",
       "                .geemap-dark .jupyter-button {\n",
       "                    --jp-layout-color3: #383838;\n",
       "                }\n",
       "\n",
       "                .geemap-colab {\n",
       "                    background-color: var(--colab-primary-surface-color, white);\n",
       "                }\n",
       "\n",
       "                .geemap-colab .jupyter-button {\n",
       "                    --jp-layout-color3: var(--colab-primary-surface-color, white);\n",
       "                }\n",
       "            </style>\n",
       "            "
      ],
      "text/plain": [
       "<IPython.core.display.HTML object>"
      ]
     },
     "metadata": {},
     "output_type": "display_data"
    },
    {
     "data": {
      "application/vnd.jupyter.widget-view+json": {
       "model_id": "6bc77861714f42be89d18f30162bc08e",
       "version_major": 2,
       "version_minor": 0
      },
      "text/plain": [
       "Map(center=[50.10339412565508, 19.63649860680545], controls=(WidgetControl(options=['position', 'transparent_b…"
      ]
     },
     "execution_count": 68,
     "metadata": {},
     "output_type": "execute_result"
    }
   ],
   "source": [
    "bare_soil_mask = ndvi.lt(0.18)\n",
    "\n",
    "\n",
    "bare_soil_vis = {'min': 0, 'max': 1, 'palette': ['black', 'white']}\n",
    "mask_vis = {'min': 0, 'max': 1, 'palette': ['white', 'yellow']}\n",
    "\n",
    "\n",
    "map = geemap.Map()\n",
    "map.centerObject(polygon, zoom=15)\n",
    "map.add_layer(rgb, rgb_vis, \"ortofotomapa\")\n",
    "map.add_layer(ndvi, ndvi_vis, \"NDVI\")\n",
    "\n",
    "map.add_layer(bare_soil_mask, bare_soil_vis, \"Bare Soil Mask\")\n",
    "\n",
    "map.add_layer(polygon.style(**polygon_style), {}, \"obszar górniczy\")\n",
    "map"
   ]
  }
 ],
 "metadata": {
  "kernelspec": {
   "display_name": "venvMining",
   "language": "python",
   "name": "python3"
  },
  "language_info": {
   "codemirror_mode": {
    "name": "ipython",
    "version": 3
   },
   "file_extension": ".py",
   "mimetype": "text/x-python",
   "name": "python",
   "nbconvert_exporter": "python",
   "pygments_lexer": "ipython3",
   "version": "3.11.11"
  }
 },
 "nbformat": 4,
 "nbformat_minor": 5
}
