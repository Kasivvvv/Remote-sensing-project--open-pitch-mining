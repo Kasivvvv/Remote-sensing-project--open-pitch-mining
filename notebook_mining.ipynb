{
 "cells": [
  {
   "cell_type": "code",
   "execution_count": 1,
   "id": "initial_id",
   "metadata": {
    "ExecuteTime": {
     "end_time": "2025-04-07T17:57:52.219987Z",
     "start_time": "2025-04-07T17:57:50.840989Z"
    },
    "collapsed": true
   },
   "outputs": [],
   "source": [
    "import ee\n",
    "import geemap\n",
    "\n",
    "# ee.Authenticate()\n",
    "ee.Initialize(project=\"ee-zuzannaslobodzian2\")"
   ]
  },
  {
   "cell_type": "code",
   "execution_count": 2,
   "id": "68bb9d6cb0f389db",
   "metadata": {
    "ExecuteTime": {
     "end_time": "2025-04-07T17:57:54.493129Z",
     "start_time": "2025-04-07T17:57:53.367341Z"
    }
   },
   "outputs": [
    {
     "data": {
      "text/html": [
       "\n",
       "            <style>\n",
       "                .geemap-dark {\n",
       "                    --jp-widgets-color: white;\n",
       "                    --jp-widgets-label-color: white;\n",
       "                    --jp-ui-font-color1: white;\n",
       "                    --jp-layout-color2: #454545;\n",
       "                    background-color: #383838;\n",
       "                }\n",
       "\n",
       "                .geemap-dark .jupyter-button {\n",
       "                    --jp-layout-color3: #383838;\n",
       "                }\n",
       "\n",
       "                .geemap-colab {\n",
       "                    background-color: var(--colab-primary-surface-color, white);\n",
       "                }\n",
       "\n",
       "                .geemap-colab .jupyter-button {\n",
       "                    --jp-layout-color3: var(--colab-primary-surface-color, white);\n",
       "                }\n",
       "            </style>\n",
       "            "
      ],
      "text/plain": [
       "<IPython.core.display.HTML object>"
      ]
     },
     "metadata": {},
     "output_type": "display_data"
    },
    {
     "data": {
      "text/html": [
       "<div><style>:root {\n",
       "  --font-color-primary: var(--jp-content-font-color0, rgba(0, 0, 0, 1));\n",
       "  --font-color-secondary: var(--jp-content-font-color2, rgba(0, 0, 0, 0.7));\n",
       "  --font-color-accent: rgba(123, 31, 162, 1);\n",
       "  --border-color: var(--jp-border-color2, #e0e0e0);\n",
       "  --background-color: var(--jp-layout-color0, white);\n",
       "  --background-color-row-even: var(--jp-layout-color1, white);\n",
       "  --background-color-row-odd: var(--jp-layout-color2, #eeeeee);\n",
       "}\n",
       "\n",
       "html[theme=\"dark\"],\n",
       "body[data-theme=\"dark\"],\n",
       "body.vscode-dark {\n",
       "  --font-color-primary: rgba(255, 255, 255, 1);\n",
       "  --font-color-secondary: rgba(255, 255, 255, 0.7);\n",
       "  --font-color-accent: rgb(173, 132, 190);\n",
       "  --border-color: #2e2e2e;\n",
       "  --background-color: #111111;\n",
       "  --background-color-row-even: #111111;\n",
       "  --background-color-row-odd: #313131;\n",
       "}\n",
       "\n",
       ".eerepr {\n",
       "  padding: 1em;\n",
       "  line-height: 1.5em;\n",
       "  min-width: 300px;\n",
       "  max-width: 1200px;\n",
       "  overflow-y: scroll;\n",
       "  max-height: 600px;\n",
       "  border: 1px solid var(--border-color);\n",
       "  font-family: monospace;\n",
       "  font-size: 14px;\n",
       "}\n",
       "\n",
       ".eerepr li {\n",
       "  list-style-type: none;\n",
       "  margin: 0;\n",
       "}\n",
       "\n",
       ".eerepr ul {\n",
       "  padding-left: 1.5em !important;\n",
       "  margin: 0;\n",
       "}\n",
       "\n",
       ".eerepr > ul {\n",
       "  padding-left: 0 !important;\n",
       "}\n",
       "\n",
       ".eerepr summary {\n",
       "  color: var(--font-color-secondary);\n",
       "  cursor: pointer;\n",
       "  margin: 0;\n",
       "}\n",
       "\n",
       ".eerepr summary:hover {\n",
       "  color: var(--font-color-primary);\n",
       "  background-color: var(--background-color-row-odd)\n",
       "}\n",
       "\n",
       ".ee-k {\n",
       "  color: var(--font-color-accent);\n",
       "  margin-right: 6px;\n",
       "}\n",
       "\n",
       ".ee-v {\n",
       "  color: var(--font-color-primary);\n",
       "}\n",
       "\n",
       ".eerepr details > summary::before {\n",
       "  content: '▼';\n",
       "  display: inline-block;\n",
       "  margin-right: 6px;\n",
       "  transition: transform 0.2s;\n",
       "  transform: rotate(-90deg);\n",
       "}\n",
       "\n",
       ".eerepr details[open] > summary::before {\n",
       "  transform: rotate(0deg);\n",
       "}\n",
       "\n",
       ".eerepr details summary::-webkit-details-marker {\n",
       "  display:none;\n",
       "}\n",
       "\n",
       ".eerepr details summary {\n",
       "  list-style-type: none;\n",
       "}\n",
       "</style><div class='eerepr'><ul><li><details><summary>FeatureCollection (1 element, 20 columns)</summary><ul><li><span class='ee-k'>type:</span><span class='ee-v'>FeatureCollection</span></li><li><details><summary>columns: Object (20 properties)</summary><ul><li><span class='ee-k'>ARK_MAP_50:</span><span class='ee-v'>String</span></li><li><span class='ee-k'>DATA_USTAN:</span><span class='ee-v'>String</span></li><li><span class='ee-k'>DATA_WAZNO:</span><span class='ee-v'>String</span></li><li><span class='ee-k'>DEC_WYZN:</span><span class='ee-v'>String</span></li><li><span class='ee-k'>ID_KONTURU:</span><span class='ee-v'>Integer</span></li><li><span class='ee-k'>KOMENTARZ:</span><span class='ee-v'>String</span></li><li><span class='ee-k'>KOPALINA:</span><span class='ee-v'>String</span></li><li><span class='ee-k'>NADZOR_OUG:</span><span class='ee-v'>String</span></li><li><span class='ee-k'>NAZWA_OG:</span><span class='ee-v'>String</span></li><li><span class='ee-k'>NAZWA_ZLOZ:</span><span class='ee-v'>String</span></li><li><span class='ee-k'>NR_REJESTR:</span><span class='ee-v'>String</span></li><li><span class='ee-k'>NUMER_ZLOZ:</span><span class='ee-v'>Integer</span></li><li><span class='ee-k'>POWIERZCHN:</span><span class='ee-v'>Integer</span></li><li><span class='ee-k'>SHAPE_AREA:</span><span class='ee-v'>Float</span></li><li><span class='ee-k'>SHAPE_LEN:</span><span class='ee-v'>Float</span></li><li><span class='ee-k'>STATUS:</span><span class='ee-v'>String</span></li><li><span class='ee-k'>STATUS_EN:</span><span class='ee-v'>String</span></li><li><span class='ee-k'>UKLAD_WSP:</span><span class='ee-v'>Integer</span></li><li><span class='ee-k'>WYD_WYZN:</span><span class='ee-v'>String</span></li><li><span class='ee-k'>system:index:</span><span class='ee-v'>String</span></li></ul></details></li><li><details><summary>features: List (1 element)</summary><ul><li><details><summary>0: Feature (Polygon, 19 properties)</summary><ul><li><span class='ee-k'>type:</span><span class='ee-v'>Feature</span></li><li><span class='ee-k'>id:</span><span class='ee-v'>0</span></li><li><details><summary>geometry: Polygon (79 vertices)</summary><ul><li><span class='ee-k'>type:</span><span class='ee-v'>Polygon</span></li><li><details><summary>coordinates: List (1 element)</summary><ul><li><details><summary>0: List (79 elements)</summary><ul><li><details><summary>0: [19.637242885856008, 50.10891317730729]</summary><ul><li><span class='ee-k'>0:</span><span class='ee-v'>19.637242885856008</span></li><li><span class='ee-k'>1:</span><span class='ee-v'>50.10891317730729</span></li></ul></details></li><li><details><summary>1: [19.63820644105001, 50.10809097911789]</summary><ul><li><span class='ee-k'>0:</span><span class='ee-v'>19.63820644105001</span></li><li><span class='ee-k'>1:</span><span class='ee-v'>50.10809097911789</span></li></ul></details></li><li><details><summary>2: [19.638652431430522, 50.10763243186726]</summary><ul><li><span class='ee-k'>0:</span><span class='ee-v'>19.638652431430522</span></li><li><span class='ee-k'>1:</span><span class='ee-v'>50.10763243186726</span></li></ul></details></li><li><details><summary>3: [19.639354892797417, 50.107521620545484]</summary><ul><li><span class='ee-k'>0:</span><span class='ee-v'>19.639354892797417</span></li><li><span class='ee-k'>1:</span><span class='ee-v'>50.107521620545484</span></li></ul></details></li><li><details><summary>4: [19.639445950009815, 50.106779995554795]</summary><ul><li><span class='ee-k'>0:</span><span class='ee-v'>19.639445950009815</span></li><li><span class='ee-k'>1:</span><span class='ee-v'>50.106779995554795</span></li></ul></details></li><li><details><summary>5: [19.639133288115925, 50.10629852661231]</summary><ul><li><span class='ee-k'>0:</span><span class='ee-v'>19.639133288115925</span></li><li><span class='ee-k'>1:</span><span class='ee-v'>50.10629852661231</span></li></ul></details></li><li><details><summary>6: [19.639213274917925, 50.105631850117575]</summary><ul><li><span class='ee-k'>0:</span><span class='ee-v'>19.639213274917925</span></li><li><span class='ee-k'>1:</span><span class='ee-v'>50.105631850117575</span></li></ul></details></li><li><details><summary>7: [19.639159860733663, 50.105188216090255]</summary><ul><li><span class='ee-k'>0:</span><span class='ee-v'>19.639159860733663</span></li><li><span class='ee-k'>1:</span><span class='ee-v'>50.105188216090255</span></li></ul></details></li><li><details><summary>8: [19.63929783656467, 50.10480365143603]</summary><ul><li><span class='ee-k'>0:</span><span class='ee-v'>19.63929783656467</span></li><li><span class='ee-k'>1:</span><span class='ee-v'>50.10480365143603</span></li></ul></details></li><li><details><summary>9: [19.639255288882442, 50.10462773052459]</summary><ul><li><span class='ee-k'>0:</span><span class='ee-v'>19.639255288882442</span></li><li><span class='ee-k'>1:</span><span class='ee-v'>50.10462773052459</span></li></ul></details></li><li><details><summary>10: [19.639095877086156, 50.104540353262806]</summary><ul><li><span class='ee-k'>0:</span><span class='ee-v'>19.639095877086156</span></li><li><span class='ee-k'>1:</span><span class='ee-v'>50.104540353262806</span></li></ul></details></li><li><details><summary>11: [19.638987869824266, 50.10455311304129]</summary><ul><li><span class='ee-k'>0:</span><span class='ee-v'>19.638987869824266</span></li><li><span class='ee-k'>1:</span><span class='ee-v'>50.10455311304129</span></li></ul></details></li><li><details><summary>12: [19.638900108014948, 50.104586522077916]</summary><ul><li><span class='ee-k'>0:</span><span class='ee-v'>19.638900108014948</span></li><li><span class='ee-k'>1:</span><span class='ee-v'>50.104586522077916</span></li></ul></details></li><li><details><summary>13: [19.638869955738716, 50.10466385439267]</summary><ul><li><span class='ee-k'>0:</span><span class='ee-v'>19.638869955738716</span></li><li><span class='ee-k'>1:</span><span class='ee-v'>50.10466385439267</span></li></ul></details></li><li><details><summary>14: [19.638604909315642, 50.10474229893748]</summary><ul><li><span class='ee-k'>0:</span><span class='ee-v'>19.638604909315642</span></li><li><span class='ee-k'>1:</span><span class='ee-v'>50.10474229893748</span></li></ul></details></li><li><details><summary>15: [19.63844232434697, 50.10492957115475]</summary><ul><li><span class='ee-k'>0:</span><span class='ee-v'>19.63844232434697</span></li><li><span class='ee-k'>1:</span><span class='ee-v'>50.10492957115475</span></li></ul></details></li><li><details><summary>16: [19.63790710138056, 50.105045307114]</summary><ul><li><span class='ee-k'>0:</span><span class='ee-v'>19.63790710138056</span></li><li><span class='ee-k'>1:</span><span class='ee-v'>50.105045307114</span></li></ul></details></li><li><details><summary>17: [19.637331518592745, 50.10473572059425]</summary><ul><li><span class='ee-k'>0:</span><span class='ee-v'>19.637331518592745</span></li><li><span class='ee-k'>1:</span><span class='ee-v'>50.10473572059425</span></li></ul></details></li><li><details><summary>18: [19.63708034289661, 50.10478833879161]</summary><ul><li><span class='ee-k'>0:</span><span class='ee-v'>19.63708034289661</span></li><li><span class='ee-k'>1:</span><span class='ee-v'>50.10478833879161</span></li></ul></details></li><li><details><summary>19: [19.6367411525926, 50.104750189341274]</summary><ul><li><span class='ee-k'>0:</span><span class='ee-v'>19.6367411525926</span></li><li><span class='ee-k'>1:</span><span class='ee-v'>50.104750189341274</span></li></ul></details></li><li><details><summary>20: [19.636460706723852, 50.104917822929046]</summary><ul><li><span class='ee-k'>0:</span><span class='ee-v'>19.636460706723852</span></li><li><span class='ee-k'>1:</span><span class='ee-v'>50.104917822929046</span></li></ul></details></li><li><details><summary>21: [19.636163097967152, 50.104931680418346]</summary><ul><li><span class='ee-k'>0:</span><span class='ee-v'>19.636163097967152</span></li><li><span class='ee-k'>1:</span><span class='ee-v'>50.104931680418346</span></li></ul></details></li><li><details><summary>22: [19.636014420411186, 50.10463879085526]</summary><ul><li><span class='ee-k'>0:</span><span class='ee-v'>19.636014420411186</span></li><li><span class='ee-k'>1:</span><span class='ee-v'>50.10463879085526</span></li></ul></details></li><li><details><summary>23: [19.636922683881064, 50.10451126005578]</summary><ul><li><span class='ee-k'>0:</span><span class='ee-v'>19.636922683881064</span></li><li><span class='ee-k'>1:</span><span class='ee-v'>50.10451126005578</span></li></ul></details></li><li><details><summary>24: [19.637213198898692, 50.10430885724866]</summary><ul><li><span class='ee-k'>0:</span><span class='ee-v'>19.637213198898692</span></li><li><span class='ee-k'>1:</span><span class='ee-v'>50.10430885724866</span></li></ul></details></li><li><details><summary>25: [19.63755733756716, 50.10416264947781]</summary><ul><li><span class='ee-k'>0:</span><span class='ee-v'>19.63755733756716</span></li><li><span class='ee-k'>1:</span><span class='ee-v'>50.10416264947781</span></li></ul></details></li><li><details><summary>26: [19.637872530256523, 50.10400675013062]</summary><ul><li><span class='ee-k'>0:</span><span class='ee-v'>19.637872530256523</span></li><li><span class='ee-k'>1:</span><span class='ee-v'>50.10400675013062</span></li></ul></details></li><li><details><summary>27: [19.63792847087397, 50.1036018031583]</summary><ul><li><span class='ee-k'>0:</span><span class='ee-v'>19.63792847087397</span></li><li><span class='ee-k'>1:</span><span class='ee-v'>50.1036018031583</span></li></ul></details></li><li><details><summary>28: [19.63762797633335, 50.10287500610656]</summary><ul><li><span class='ee-k'>0:</span><span class='ee-v'>19.63762797633335</span></li><li><span class='ee-k'>1:</span><span class='ee-v'>50.10287500610656</span></li></ul></details></li><li><details><summary>29: [19.63840341569724, 50.10263836766324]</summary><ul><li><span class='ee-k'>0:</span><span class='ee-v'>19.63840341569724</span></li><li><span class='ee-k'>1:</span><span class='ee-v'>50.10263836766324</span></li></ul></details></li><li><details><summary>30: [19.638806526899707, 50.102803052624154]</summary><ul><li><span class='ee-k'>0:</span><span class='ee-v'>19.638806526899707</span></li><li><span class='ee-k'>1:</span><span class='ee-v'>50.102803052624154</span></li></ul></details></li><li><details><summary>31: [19.639452898901485, 50.10270560958269]</summary><ul><li><span class='ee-k'>0:</span><span class='ee-v'>19.639452898901485</span></li><li><span class='ee-k'>1:</span><span class='ee-v'>50.10270560958269</span></li></ul></details></li><li><details><summary>32: [19.63989155416232, 50.10277045305376]</summary><ul><li><span class='ee-k'>0:</span><span class='ee-v'>19.63989155416232</span></li><li><span class='ee-k'>1:</span><span class='ee-v'>50.10277045305376</span></li></ul></details></li><li><details><summary>33: [19.640298457245372, 50.10259898741661]</summary><ul><li><span class='ee-k'>0:</span><span class='ee-v'>19.640298457245372</span></li><li><span class='ee-k'>1:</span><span class='ee-v'>50.10259898741661</span></li></ul></details></li><li><details><summary>34: [19.64070746126517, 50.10255567293934]</summary><ul><li><span class='ee-k'>0:</span><span class='ee-v'>19.64070746126517</span></li><li><span class='ee-k'>1:</span><span class='ee-v'>50.10255567293934</span></li></ul></details></li><li><details><summary>35: [19.641269609321725, 50.10241101822691]</summary><ul><li><span class='ee-k'>0:</span><span class='ee-v'>19.641269609321725</span></li><li><span class='ee-k'>1:</span><span class='ee-v'>50.10241101822691</span></li></ul></details></li><li><details><summary>36: [19.64193962228888, 50.102302778658]</summary><ul><li><span class='ee-k'>0:</span><span class='ee-v'>19.64193962228888</span></li><li><span class='ee-k'>1:</span><span class='ee-v'>50.102302778658</span></li></ul></details></li><li><details><summary>37: [19.64193955261582, 50.102443673561915]</summary><ul><li><span class='ee-k'>0:</span><span class='ee-v'>19.64193955261582</span></li><li><span class='ee-k'>1:</span><span class='ee-v'>50.102443673561915</span></li></ul></details></li><li><details><summary>38: [19.64239972198604, 50.10237550564649]</summary><ul><li><span class='ee-k'>0:</span><span class='ee-v'>19.64239972198604</span></li><li><span class='ee-k'>1:</span><span class='ee-v'>50.10237550564649</span></li></ul></details></li><li><details><summary>39: [19.642092674582365, 50.101952463868294]</summary><ul><li><span class='ee-k'>0:</span><span class='ee-v'>19.642092674582365</span></li><li><span class='ee-k'>1:</span><span class='ee-v'>50.101952463868294</span></li></ul></details></li><li><details><summary>40: [19.64177076669302, 50.101417484650405]</summary><ul><li><span class='ee-k'>0:</span><span class='ee-v'>19.64177076669302</span></li><li><span class='ee-k'>1:</span><span class='ee-v'>50.101417484650405</span></li></ul></details></li><li><details><summary>41: [19.641562333695838, 50.1008591950626]</summary><ul><li><span class='ee-k'>0:</span><span class='ee-v'>19.641562333695838</span></li><li><span class='ee-k'>1:</span><span class='ee-v'>50.1008591950626</span></li></ul></details></li><li><details><summary>42: [19.641460844094258, 50.10048863940812]</summary><ul><li><span class='ee-k'>0:</span><span class='ee-v'>19.641460844094258</span></li><li><span class='ee-k'>1:</span><span class='ee-v'>50.10048863940812</span></li></ul></details></li><li><details><summary>43: [19.641404242146454, 50.10034986858194]</summary><ul><li><span class='ee-k'>0:</span><span class='ee-v'>19.641404242146454</span></li><li><span class='ee-k'>1:</span><span class='ee-v'>50.10034986858194</span></li></ul></details></li><li><details><summary>44: [19.640929628514805, 50.1000053358065]</summary><ul><li><span class='ee-k'>0:</span><span class='ee-v'>19.640929628514805</span></li><li><span class='ee-k'>1:</span><span class='ee-v'>50.1000053358065</span></li></ul></details></li><li><details><summary>45: [19.640415272158535, 50.09974656359921]</summary><ul><li><span class='ee-k'>0:</span><span class='ee-v'>19.640415272158535</span></li><li><span class='ee-k'>1:</span><span class='ee-v'>50.09974656359921</span></li></ul></details></li><li><details><summary>46: [19.639825559639092, 50.09946865368299]</summary><ul><li><span class='ee-k'>0:</span><span class='ee-v'>19.639825559639092</span></li><li><span class='ee-k'>1:</span><span class='ee-v'>50.09946865368299</span></li></ul></details></li><li><details><summary>47: [19.639053618985468, 50.09949017696621]</summary><ul><li><span class='ee-k'>0:</span><span class='ee-v'>19.639053618985468</span></li><li><span class='ee-k'>1:</span><span class='ee-v'>50.09949017696621</span></li></ul></details></li><li><details><summary>48: [19.638074270829808, 50.09955484882168]</summary><ul><li><span class='ee-k'>0:</span><span class='ee-v'>19.638074270829808</span></li><li><span class='ee-k'>1:</span><span class='ee-v'>50.09955484882168</span></li></ul></details></li><li><details><summary>49: [19.637050666066692, 50.0996519922113]</summary><ul><li><span class='ee-k'>0:</span><span class='ee-v'>19.637050666066692</span></li><li><span class='ee-k'>1:</span><span class='ee-v'>50.0996519922113</span></li></ul></details></li><li><details><summary>50: [19.636402520035684, 50.09968511163465]</summary><ul><li><span class='ee-k'>0:</span><span class='ee-v'>19.636402520035684</span></li><li><span class='ee-k'>1:</span><span class='ee-v'>50.09968511163465</span></li></ul></details></li><li><details><summary>51: [19.635301258681405, 50.09953379232564]</summary><ul><li><span class='ee-k'>0:</span><span class='ee-v'>19.635301258681405</span></li><li><span class='ee-k'>1:</span><span class='ee-v'>50.09953379232564</span></li></ul></details></li><li><details><summary>52: [19.63440082516928, 50.099487417567964]</summary><ul><li><span class='ee-k'>0:</span><span class='ee-v'>19.63440082516928</span></li><li><span class='ee-k'>1:</span><span class='ee-v'>50.099487417567964</span></li></ul></details></li><li><details><summary>53: [19.63319661930758, 50.100237608463274]</summary><ul><li><span class='ee-k'>0:</span><span class='ee-v'>19.63319661930758</span></li><li><span class='ee-k'>1:</span><span class='ee-v'>50.100237608463274</span></li></ul></details></li><li><details><summary>54: [19.632435893005347, 50.10033600676797]</summary><ul><li><span class='ee-k'>0:</span><span class='ee-v'>19.632435893005347</span></li><li><span class='ee-k'>1:</span><span class='ee-v'>50.10033600676797</span></li></ul></details></li><li><details><summary>55: [19.632026243631024, 50.10121216180271]</summary><ul><li><span class='ee-k'>0:</span><span class='ee-v'>19.632026243631024</span></li><li><span class='ee-k'>1:</span><span class='ee-v'>50.10121216180271</span></li></ul></details></li><li><details><summary>56: [19.632426859859237, 50.10178729896735]</summary><ul><li><span class='ee-k'>0:</span><span class='ee-v'>19.632426859859237</span></li><li><span class='ee-k'>1:</span><span class='ee-v'>50.10178729896735</span></li></ul></details></li><li><details><summary>57: [19.63242724835755, 50.10223516743265]</summary><ul><li><span class='ee-k'>0:</span><span class='ee-v'>19.63242724835755</span></li><li><span class='ee-k'>1:</span><span class='ee-v'>50.10223516743265</span></li></ul></details></li><li><details><summary>58: [19.632522020677435, 50.10270671562154]</summary><ul><li><span class='ee-k'>0:</span><span class='ee-v'>19.632522020677435</span></li><li><span class='ee-k'>1:</span><span class='ee-v'>50.10270671562154</span></li></ul></details></li><li><details><summary>59: [19.632769921638403, 50.1036576932256]</summary><ul><li><span class='ee-k'>0:</span><span class='ee-v'>19.632769921638403</span></li><li><span class='ee-k'>1:</span><span class='ee-v'>50.1036576932256</span></li></ul></details></li><li><details><summary>60: [19.63269961291307, 50.1044086385808]</summary><ul><li><span class='ee-k'>0:</span><span class='ee-v'>19.63269961291307</span></li><li><span class='ee-k'>1:</span><span class='ee-v'>50.1044086385808</span></li></ul></details></li><li><details><summary>61: [19.632960316826654, 50.104758059673436]</summary><ul><li><span class='ee-k'>0:</span><span class='ee-v'>19.632960316826654</span></li><li><span class='ee-k'>1:</span><span class='ee-v'>50.104758059673436</span></li></ul></details></li><li><details><summary>62: [19.633226732769597, 50.10547178962193]</summary><ul><li><span class='ee-k'>0:</span><span class='ee-v'>19.633226732769597</span></li><li><span class='ee-k'>1:</span><span class='ee-v'>50.10547178962193</span></li></ul></details></li><li><details><summary>63: [19.63319503239507, 50.10634978979107]</summary><ul><li><span class='ee-k'>0:</span><span class='ee-v'>19.63319503239507</span></li><li><span class='ee-k'>1:</span><span class='ee-v'>50.10634978979107</span></li></ul></details></li><li><details><summary>64: [19.633267764610135, 50.106628571046436]</summary><ul><li><span class='ee-k'>0:</span><span class='ee-v'>19.633267764610135</span></li><li><span class='ee-k'>1:</span><span class='ee-v'>50.106628571046436</span></li></ul></details></li><li><details><summary>65: [19.6333959150066, 50.106826902084954]</summary><ul><li><span class='ee-k'>0:</span><span class='ee-v'>19.6333959150066</span></li><li><span class='ee-k'>1:</span><span class='ee-v'>50.106826902084954</span></li></ul></details></li><li><details><summary>66: [19.63356837350167, 50.10701082863365]</summary><ul><li><span class='ee-k'>0:</span><span class='ee-v'>19.63356837350167</span></li><li><span class='ee-k'>1:</span><span class='ee-v'>50.10701082863365</span></li></ul></details></li><li><details><summary>67: [19.634219113276604, 50.10738650508753]</summary><ul><li><span class='ee-k'>0:</span><span class='ee-v'>19.634219113276604</span></li><li><span class='ee-k'>1:</span><span class='ee-v'>50.10738650508753</span></li></ul></details></li><li><details><summary>68: [19.634379827813483, 50.107452684800286]</summary><ul><li><span class='ee-k'>0:</span><span class='ee-v'>19.634379827813483</span></li><li><span class='ee-k'>1:</span><span class='ee-v'>50.107452684800286</span></li></ul></details></li><li><details><summary>69: [19.63472806853586, 50.10757142176111]</summary><ul><li><span class='ee-k'>0:</span><span class='ee-v'>19.63472806853586</span></li><li><span class='ee-k'>1:</span><span class='ee-v'>50.10757142176111</span></li></ul></details></li><li><details><summary>70: [19.63531403010417, 50.107742674461484]</summary><ul><li><span class='ee-k'>0:</span><span class='ee-v'>19.63531403010417</span></li><li><span class='ee-k'>1:</span><span class='ee-v'>50.107742674461484</span></li></ul></details></li><li><details><summary>71: [19.635408859711863, 50.10777085317107]</summary><ul><li><span class='ee-k'>0:</span><span class='ee-v'>19.635408859711863</span></li><li><span class='ee-k'>1:</span><span class='ee-v'>50.10777085317107</span></li></ul></details></li><li><details><summary>72: [19.63584330793597, 50.107999935234055]</summary><ul><li><span class='ee-k'>0:</span><span class='ee-v'>19.63584330793597</span></li><li><span class='ee-k'>1:</span><span class='ee-v'>50.107999935234055</span></li></ul></details></li><li><details><summary>73: [19.63585631958513, 50.10806356769205]</summary><ul><li><span class='ee-k'>0:</span><span class='ee-v'>19.63585631958513</span></li><li><span class='ee-k'>1:</span><span class='ee-v'>50.10806356769205</span></li></ul></details></li><li><details><summary>74: [19.636081715147366, 50.10826951235421]</summary><ul><li><span class='ee-k'>0:</span><span class='ee-v'>19.636081715147366</span></li><li><span class='ee-k'>1:</span><span class='ee-v'>50.10826951235421</span></li></ul></details></li><li><details><summary>75: [19.636108063731076, 50.108311541757175]</summary><ul><li><span class='ee-k'>0:</span><span class='ee-v'>19.636108063731076</span></li><li><span class='ee-k'>1:</span><span class='ee-v'>50.108311541757175</span></li></ul></details></li><li><details><summary>76: [19.636224540963056, 50.10849804357772]</summary><ul><li><span class='ee-k'>0:</span><span class='ee-v'>19.636224540963056</span></li><li><span class='ee-k'>1:</span><span class='ee-v'>50.10849804357772</span></li></ul></details></li><li><details><summary>77: [19.636300427168774, 50.10874035552581]</summary><ul><li><span class='ee-k'>0:</span><span class='ee-v'>19.636300427168774</span></li><li><span class='ee-k'>1:</span><span class='ee-v'>50.10874035552581</span></li></ul></details></li><li><details><summary>78: [19.637242885856008, 50.10891317730729]</summary><ul><li><span class='ee-k'>0:</span><span class='ee-v'>19.637242885856008</span></li><li><span class='ee-k'>1:</span><span class='ee-v'>50.10891317730729</span></li></ul></details></li></ul></details></li></ul></details></li><li><span class='ee-k'>geodesic:</span><span class='ee-v'>False</span></li></ul></details></li><li><details><summary>properties: Object (19 properties)</summary><ul><li><span class='ee-k'>ARK_MAP_50:</span><span class='ee-v'>972 - Krzeszowice - M-34-64-C</span></li><li><span class='ee-k'>DATA_USTAN:</span><span class='ee-v'>21/05/2020</span></li><li><span class='ee-k'>DATA_WAZNO:</span><span class='ee-v'>31/12/2040</span></li><li><span class='ee-k'>DEC_WYZN:</span><span class='ee-v'>SR-IX.7422.24.2020.MR</span></li><li><span class='ee-k'>ID_KONTURU:</span><span class='ee-v'>141288</span></li><li><span class='ee-k'>KOMENTARZ:</span><span class='ee-v'></span></li><li><span class='ee-k'>KOPALINA:</span><span class='ee-v'>KAMIENIE ŁAMANE I BLOCZNE</span></li><li><span class='ee-k'>NADZOR_OUG:</span><span class='ee-v'>Okręgowy Urząd Górniczy - Kraków</span></li><li><span class='ee-k'>NAZWA_OG:</span><span class='ee-v'>Niedźwiedzia Góra II</span></li><li><span class='ee-k'>NAZWA_ZLOZ:</span><span class='ee-v'>Niedźwiedzia Góra</span></li><li><span class='ee-k'>NR_REJESTR:</span><span class='ee-v'>10-6/5/462</span></li><li><span class='ee-k'>NUMER_ZLOZ:</span><span class='ee-v'>918</span></li><li><span class='ee-k'>POWIERZCHN:</span><span class='ee-v'>451143</span></li><li><span class='ee-k'>SHAPE_AREA:</span><span class='ee-v'>450648.31505</span></li><li><span class='ee-k'>SHAPE_LEN:</span><span class='ee-v'>3602.58255304</span></li><li><span class='ee-k'>STATUS:</span><span class='ee-v'>aktualny</span></li><li><span class='ee-k'>STATUS_EN:</span><span class='ee-v'>current</span></li><li><span class='ee-k'>UKLAD_WSP:</span><span class='ee-v'>2178</span></li><li><span class='ee-k'>WYD_WYZN:</span><span class='ee-v'>Marszałek Województwa Małopolskiego</span></li></ul></details></li></ul></details></li></ul></details></li></ul></details></li></ul></div></div>"
      ],
      "text/plain": [
       "<ee.featurecollection.FeatureCollection at 0x136adf53e90>"
      ]
     },
     "execution_count": 2,
     "metadata": {},
     "output_type": "execute_result"
    }
   ],
   "source": [
    "polygon = geemap.shp_to_ee(\"C:\\\\space_technologies\\\\OpenPitMining\\\\niedzwedzia_gora\\\\niedzwiedzia_gora.shp\")\n",
    "image = ee.ImageCollection('COPERNICUS/S2_HARMONIZED').filterBounds(polygon).filterDate('2025-03-01', '2025-03-31').sort('CLOUDY_PIXEL_PERCENTAGE').first()\n",
    "\n",
    "polygon"
   ]
  },
  {
   "cell_type": "code",
   "execution_count": 3,
   "id": "b19ded3668b785e3",
   "metadata": {
    "ExecuteTime": {
     "end_time": "2025-04-07T17:57:57.774894Z",
     "start_time": "2025-04-07T17:57:55.448692Z"
    }
   },
   "outputs": [
    {
     "data": {
      "text/html": [
       "\n",
       "            <style>\n",
       "                .geemap-dark {\n",
       "                    --jp-widgets-color: white;\n",
       "                    --jp-widgets-label-color: white;\n",
       "                    --jp-ui-font-color1: white;\n",
       "                    --jp-layout-color2: #454545;\n",
       "                    background-color: #383838;\n",
       "                }\n",
       "\n",
       "                .geemap-dark .jupyter-button {\n",
       "                    --jp-layout-color3: #383838;\n",
       "                }\n",
       "\n",
       "                .geemap-colab {\n",
       "                    background-color: var(--colab-primary-surface-color, white);\n",
       "                }\n",
       "\n",
       "                .geemap-colab .jupyter-button {\n",
       "                    --jp-layout-color3: var(--colab-primary-surface-color, white);\n",
       "                }\n",
       "            </style>\n",
       "            "
      ],
      "text/plain": [
       "<IPython.core.display.HTML object>"
      ]
     },
     "metadata": {},
     "output_type": "display_data"
    },
    {
     "data": {
      "application/vnd.jupyter.widget-view+json": {
       "model_id": "5d38b1e58ebb4209892479b26872dfc3",
       "version_major": 2,
       "version_minor": 0
      },
      "text/plain": [
       "Map(center=[50.10339412565508, 19.63649860680545], controls=(WidgetControl(options=['position', 'transparent_b…"
      ]
     },
     "execution_count": 3,
     "metadata": {},
     "output_type": "execute_result"
    }
   ],
   "source": [
    "rgb = image.select(['B4', 'B3', 'B2'])\n",
    "\n",
    "image = image.clip(polygon.first().geometry().buffer(1000))\n",
    "ndvi = image.normalizedDifference(['B8', 'B4'])\n",
    "\n",
    "palette_ndvi = {'min': -1, 'max': 1, 'palette': ['blue', 'white', 'green']}\n",
    "palette_rgb = {'min': 0, 'max': 3000, 'bands': ['B4', 'B3', 'B2']}\n",
    "centre = polygon.first().geometry().centroid(maxError=1).coordinates().getInfo()\n",
    "\n",
    "map = geemap.Map(center=[centre[1], centre[0]], zoom=14)\n",
    "\n",
    "map.add_layer(rgb, palette_rgb, \"ortofotomapa\")\n",
    "map.add_layer(ndvi, palette_ndvi, \"NDVI\")\n",
    "map.add_layer(polygon, {}, \"obszar górniczy\")\n",
    "map"
   ]
  }
 ],
 "metadata": {
  "kernelspec": {
   "display_name": "venvMining",
   "language": "python",
   "name": "python3"
  },
  "language_info": {
   "codemirror_mode": {
    "name": "ipython",
    "version": 3
   },
   "file_extension": ".py",
   "mimetype": "text/x-python",
   "name": "python",
   "nbconvert_exporter": "python",
   "pygments_lexer": "ipython3",
   "version": "3.11.11"
  }
 },
 "nbformat": 4,
 "nbformat_minor": 5
}
